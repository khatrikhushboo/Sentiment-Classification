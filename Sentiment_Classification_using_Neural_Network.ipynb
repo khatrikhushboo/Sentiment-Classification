{
  "nbformat": 4,
  "nbformat_minor": 0,
  "metadata": {
    "colab": {
      "provenance": []
    },
    "kernelspec": {
      "name": "python3",
      "display_name": "Python 3"
    },
    "language_info": {
      "name": "python"
    },
    "accelerator": "GPU"
  },
  "cells": [
    {
      "cell_type": "markdown",
      "metadata": {
        "id": "6j2AHDsG_ZmX"
      },
      "source": [
        "### Steps to solve the Sentiment Classification problem using Neural Networks\n",
        "\n",
        "1. Importing the required libraries\n",
        "2. Loading and preprocessing the dataset\n",
        "3. Defining the model architecture\n",
        "4. Training the model and visualizing the results\n",
        "5. Tuning hyperparameters of neural network"
      ]
    },
    {
      "cell_type": "markdown",
      "metadata": {
        "id": "UwuPCIT8_iA2"
      },
      "source": [
        "### 1. Importing the required libraries"
      ]
    },
    {
      "cell_type": "code",
      "metadata": {
        "id": "sqqUw5YCdOZP"
      },
      "source": [
        "import pandas as pd\n",
        "import numpy as np\n",
        "from sklearn.model_selection import train_test_split\n",
        "from sklearn.feature_extraction.text import CountVectorizer\n",
        "from sklearn.metrics import f1_score\n",
        "import matplotlib.pyplot as plt\n",
        "%matplotlib inline\n",
        "\n",
        "from keras.layers import Dense, InputLayer\n",
        "from keras.models import Sequential\n",
        "from keras.optimizers import Adam"
      ],
      "execution_count": null,
      "outputs": []
    },
    {
      "cell_type": "markdown",
      "metadata": {
        "id": "zXMnwkLxAPHW"
      },
      "source": [
        "### 2. Loading and preprocessing the dataset"
      ]
    },
    {
      "cell_type": "code",
      "metadata": {
        "colab": {
          "base_uri": "https://localhost:8080/",
          "height": 206
        },
        "id": "FP8fNY05dWjY",
        "outputId": "f0536185-2548-43b4-c7bc-4723f0732178"
      },
      "source": [
        "tweets_data = pd.read_csv('train_2kmZucJ.csv')\n",
        "tweets_data.head()"
      ],
      "execution_count": null,
      "outputs": [
        {
          "output_type": "execute_result",
          "data": {
            "text/html": [
              "<div>\n",
              "<style scoped>\n",
              "    .dataframe tbody tr th:only-of-type {\n",
              "        vertical-align: middle;\n",
              "    }\n",
              "\n",
              "    .dataframe tbody tr th {\n",
              "        vertical-align: top;\n",
              "    }\n",
              "\n",
              "    .dataframe thead th {\n",
              "        text-align: right;\n",
              "    }\n",
              "</style>\n",
              "<table border=\"1\" class=\"dataframe\">\n",
              "  <thead>\n",
              "    <tr style=\"text-align: right;\">\n",
              "      <th></th>\n",
              "      <th>id</th>\n",
              "      <th>label</th>\n",
              "      <th>tweet</th>\n",
              "    </tr>\n",
              "  </thead>\n",
              "  <tbody>\n",
              "    <tr>\n",
              "      <th>0</th>\n",
              "      <td>1</td>\n",
              "      <td>0</td>\n",
              "      <td>#fingerprint #Pregnancy Test https://goo.gl/h1...</td>\n",
              "    </tr>\n",
              "    <tr>\n",
              "      <th>1</th>\n",
              "      <td>2</td>\n",
              "      <td>0</td>\n",
              "      <td>Finally a transparant silicon case ^^ Thanks t...</td>\n",
              "    </tr>\n",
              "    <tr>\n",
              "      <th>2</th>\n",
              "      <td>3</td>\n",
              "      <td>0</td>\n",
              "      <td>We love this! Would you go? #talk #makememorie...</td>\n",
              "    </tr>\n",
              "    <tr>\n",
              "      <th>3</th>\n",
              "      <td>4</td>\n",
              "      <td>0</td>\n",
              "      <td>I'm wired I know I'm George I was made that wa...</td>\n",
              "    </tr>\n",
              "    <tr>\n",
              "      <th>4</th>\n",
              "      <td>5</td>\n",
              "      <td>1</td>\n",
              "      <td>What amazing service! Apple won't even talk to...</td>\n",
              "    </tr>\n",
              "  </tbody>\n",
              "</table>\n",
              "</div>"
            ],
            "text/plain": [
              "   id  label                                              tweet\n",
              "0   1      0  #fingerprint #Pregnancy Test https://goo.gl/h1...\n",
              "1   2      0  Finally a transparant silicon case ^^ Thanks t...\n",
              "2   3      0  We love this! Would you go? #talk #makememorie...\n",
              "3   4      0  I'm wired I know I'm George I was made that wa...\n",
              "4   5      1  What amazing service! Apple won't even talk to..."
            ]
          },
          "metadata": {
            "tags": []
          },
          "execution_count": 52
        }
      ]
    },
    {
      "cell_type": "code",
      "metadata": {
        "colab": {
          "base_uri": "https://localhost:8080/"
        },
        "id": "9ZyTyL2bAd5K",
        "outputId": "8c685e1b-89af-4512-f093-c8125cdc9ea2"
      },
      "source": [
        "# distribution of classes\n",
        "tweets_data['label'].value_counts(normalize=True)"
      ],
      "execution_count": null,
      "outputs": [
        {
          "output_type": "execute_result",
          "data": {
            "text/plain": [
              "0    0.744192\n",
              "1    0.255808\n",
              "Name: label, dtype: float64"
            ]
          },
          "metadata": {
            "tags": []
          },
          "execution_count": 53
        }
      ]
    },
    {
      "cell_type": "code",
      "metadata": {
        "id": "Fj52pBpTdWgA"
      },
      "source": [
        "# separate features and target variable\n",
        "x = tweets_data['tweet']\n",
        "y = tweets_data['label']"
      ],
      "execution_count": null,
      "outputs": []
    },
    {
      "cell_type": "code",
      "metadata": {
        "id": "nLixx41ndWbl"
      },
      "source": [
        "# create train and test sets\n",
        "x_train, x_test, y_train, y_test = train_test_split(x, y, test_size=0.3, random_state=10, stratify=y)"
      ],
      "execution_count": null,
      "outputs": []
    },
    {
      "cell_type": "code",
      "metadata": {
        "colab": {
          "base_uri": "https://localhost:8080/"
        },
        "id": "IIzw_DHkAvSl",
        "outputId": "8c9b1fe5-99cd-4474-a975-dc2fa60b39a0"
      },
      "source": [
        "# shape of training and test set\n",
        "(x_train.shape, y_train.shape), (x_test.shape, y_test.shape)"
      ],
      "execution_count": null,
      "outputs": [
        {
          "output_type": "execute_result",
          "data": {
            "text/plain": [
              "(((5544,), (5544,)), ((2376,), (2376,)))"
            ]
          },
          "metadata": {
            "tags": []
          },
          "execution_count": 6
        }
      ]
    },
    {
      "cell_type": "code",
      "metadata": {
        "id": "Q9fCDggHdWZa"
      },
      "source": [
        "# creating the countvectorizer\n",
        "count_vector = CountVectorizer(stop_words = 'english')"
      ],
      "execution_count": null,
      "outputs": []
    },
    {
      "cell_type": "code",
      "metadata": {
        "id": "rBgjhtt0dWXD"
      },
      "source": [
        "# Fit and transform the training data\n",
        "x_train = count_vector.fit_transform(x_train)\n",
        "# transform the testing data\n",
        "x_test = count_vector.transform(x_test)"
      ],
      "execution_count": null,
      "outputs": []
    },
    {
      "cell_type": "code",
      "metadata": {
        "colab": {
          "base_uri": "https://localhost:8080/"
        },
        "id": "ItbQeoYYdppK",
        "outputId": "53a9560b-41c9-42fb-81c6-c92d7a6f9b52"
      },
      "source": [
        "# shape of transformed data\n",
        "x_train.shape, x_test.shape"
      ],
      "execution_count": null,
      "outputs": [
        {
          "output_type": "execute_result",
          "data": {
            "text/plain": [
              "((5544, 17721), (2376, 17721))"
            ]
          },
          "metadata": {
            "tags": []
          },
          "execution_count": 9
        }
      ]
    },
    {
      "cell_type": "code",
      "metadata": {
        "colab": {
          "base_uri": "https://localhost:8080/"
        },
        "id": "tTZpkesbBL5X",
        "outputId": "ca1b0058-156a-4285-ded1-a184be657748"
      },
      "source": [
        "x_train"
      ],
      "execution_count": null,
      "outputs": [
        {
          "output_type": "execute_result",
          "data": {
            "text/plain": [
              "<5544x17721 sparse matrix of type '<class 'numpy.int64'>'\n",
              "\twith 74477 stored elements in Compressed Sparse Row format>"
            ]
          },
          "metadata": {
            "tags": []
          },
          "execution_count": 10
        }
      ]
    },
    {
      "cell_type": "code",
      "metadata": {
        "id": "sgSsYuuHeWt0"
      },
      "source": [
        "# converting the transformed data into array\n",
        "x_train = x_train.toarray()\n",
        "x_test = x_test.toarray()"
      ],
      "execution_count": null,
      "outputs": []
    },
    {
      "cell_type": "code",
      "metadata": {
        "colab": {
          "base_uri": "https://localhost:8080/"
        },
        "id": "RnMEWfsfdWVL",
        "outputId": "0cf51818-37c3-4fae-f1a1-e98cccdb234b"
      },
      "source": [
        "# shape of transformed data\n",
        "x_train.shape, x_test.shape"
      ],
      "execution_count": null,
      "outputs": [
        {
          "output_type": "execute_result",
          "data": {
            "text/plain": [
              "((5544, 17721), (2376, 17721))"
            ]
          },
          "metadata": {
            "tags": []
          },
          "execution_count": 12
        }
      ]
    },
    {
      "cell_type": "code",
      "metadata": {
        "colab": {
          "base_uri": "https://localhost:8080/"
        },
        "id": "9trHm2_XBYgt",
        "outputId": "a22449fb-ae20-4592-80ec-0c98d9d70f87"
      },
      "source": [
        "x_train"
      ],
      "execution_count": null,
      "outputs": [
        {
          "output_type": "execute_result",
          "data": {
            "text/plain": [
              "array([[0, 0, 0, ..., 0, 0, 0],\n",
              "       [0, 0, 0, ..., 0, 0, 0],\n",
              "       [0, 0, 0, ..., 0, 0, 0],\n",
              "       ...,\n",
              "       [0, 0, 0, ..., 0, 0, 0],\n",
              "       [0, 0, 0, ..., 0, 0, 0],\n",
              "       [0, 0, 0, ..., 0, 0, 0]])"
            ]
          },
          "metadata": {
            "tags": []
          },
          "execution_count": 13
        }
      ]
    },
    {
      "cell_type": "markdown",
      "metadata": {
        "id": "1ajUcczsBdaP"
      },
      "source": [
        "### 3. Defining the model architecture"
      ]
    },
    {
      "cell_type": "code",
      "metadata": {
        "id": "Zffs5sqZdWSt"
      },
      "source": [
        "# defining the architecture of the model\n",
        "model=Sequential()\n",
        "model.add(InputLayer(input_shape=(x_train.shape[1],)))\n",
        "model.add(Dense(100, activation='sigmoid'))\n",
        "model.add(Dense(units=1, activation='sigmoid'))"
      ],
      "execution_count": null,
      "outputs": []
    },
    {
      "cell_type": "code",
      "metadata": {
        "colab": {
          "base_uri": "https://localhost:8080/"
        },
        "id": "jZDUrM_ndyKx",
        "outputId": "936083e0-1d92-4a41-b341-10928576b377"
      },
      "source": [
        "# summary of the model\n",
        "model.summary()"
      ],
      "execution_count": null,
      "outputs": [
        {
          "output_type": "stream",
          "text": [
            "Model: \"sequential\"\n",
            "_________________________________________________________________\n",
            "Layer (type)                 Output Shape              Param #   \n",
            "=================================================================\n",
            "dense (Dense)                (None, 100)               1772200   \n",
            "_________________________________________________________________\n",
            "dense_1 (Dense)              (None, 1)                 101       \n",
            "=================================================================\n",
            "Total params: 1,772,301\n",
            "Trainable params: 1,772,301\n",
            "Non-trainable params: 0\n",
            "_________________________________________________________________\n"
          ],
          "name": "stdout"
        }
      ]
    },
    {
      "cell_type": "code",
      "metadata": {
        "id": "9rCbhXtbd1Es"
      },
      "source": [
        "# compiling the model\n",
        "model.compile(loss='binary_crossentropy', optimizer='sgd', metrics=['accuracy'])"
      ],
      "execution_count": null,
      "outputs": []
    },
    {
      "cell_type": "markdown",
      "metadata": {
        "id": "dkvD8y4lBy92"
      },
      "source": [
        "### 4. Training the model and visualizing the results"
      ]
    },
    {
      "cell_type": "code",
      "metadata": {
        "colab": {
          "base_uri": "https://localhost:8080/"
        },
        "id": "N_Lh77V7d_rd",
        "outputId": "8396c8e7-7488-4a28-abd0-b07cd15c491c"
      },
      "source": [
        "# training the model\n",
        "model_history = model.fit(x_train, y_train, epochs=20, batch_size=128,validation_data=(x_test,y_test))"
      ],
      "execution_count": null,
      "outputs": [
        {
          "output_type": "stream",
          "text": [
            "Epoch 1/20\n",
            "44/44 [==============================] - 12s 23ms/step - loss: 0.5928 - accuracy: 0.7544 - val_loss: 0.5670 - val_accuracy: 0.7441\n",
            "Epoch 2/20\n",
            "44/44 [==============================] - 1s 14ms/step - loss: 0.5659 - accuracy: 0.7440 - val_loss: 0.5632 - val_accuracy: 0.7441\n",
            "Epoch 3/20\n",
            "44/44 [==============================] - 1s 15ms/step - loss: 0.5662 - accuracy: 0.7409 - val_loss: 0.5610 - val_accuracy: 0.7441\n",
            "Epoch 4/20\n",
            "44/44 [==============================] - 1s 14ms/step - loss: 0.5619 - accuracy: 0.7430 - val_loss: 0.5588 - val_accuracy: 0.7441\n",
            "Epoch 5/20\n",
            "44/44 [==============================] - 1s 15ms/step - loss: 0.5574 - accuracy: 0.7452 - val_loss: 0.5568 - val_accuracy: 0.7441\n",
            "Epoch 6/20\n",
            "44/44 [==============================] - 1s 14ms/step - loss: 0.5641 - accuracy: 0.7367 - val_loss: 0.5548 - val_accuracy: 0.7441\n",
            "Epoch 7/20\n",
            "44/44 [==============================] - 1s 15ms/step - loss: 0.5572 - accuracy: 0.7410 - val_loss: 0.5525 - val_accuracy: 0.7441\n",
            "Epoch 8/20\n",
            "44/44 [==============================] - 1s 15ms/step - loss: 0.5458 - accuracy: 0.7501 - val_loss: 0.5503 - val_accuracy: 0.7441\n",
            "Epoch 9/20\n",
            "44/44 [==============================] - 1s 15ms/step - loss: 0.5553 - accuracy: 0.7384 - val_loss: 0.5482 - val_accuracy: 0.7441\n",
            "Epoch 10/20\n",
            "44/44 [==============================] - 1s 14ms/step - loss: 0.5529 - accuracy: 0.7385 - val_loss: 0.5461 - val_accuracy: 0.7441\n",
            "Epoch 11/20\n",
            "44/44 [==============================] - 1s 14ms/step - loss: 0.5501 - accuracy: 0.7399 - val_loss: 0.5439 - val_accuracy: 0.7441\n",
            "Epoch 12/20\n",
            "44/44 [==============================] - 1s 14ms/step - loss: 0.5350 - accuracy: 0.7523 - val_loss: 0.5418 - val_accuracy: 0.7441\n",
            "Epoch 13/20\n",
            "44/44 [==============================] - 1s 15ms/step - loss: 0.5351 - accuracy: 0.7506 - val_loss: 0.5396 - val_accuracy: 0.7441\n",
            "Epoch 14/20\n",
            "44/44 [==============================] - 1s 14ms/step - loss: 0.5336 - accuracy: 0.7492 - val_loss: 0.5374 - val_accuracy: 0.7441\n",
            "Epoch 15/20\n",
            "44/44 [==============================] - 1s 14ms/step - loss: 0.5466 - accuracy: 0.7337 - val_loss: 0.5352 - val_accuracy: 0.7441\n",
            "Epoch 16/20\n",
            "44/44 [==============================] - 1s 14ms/step - loss: 0.5338 - accuracy: 0.7450 - val_loss: 0.5330 - val_accuracy: 0.7441\n",
            "Epoch 17/20\n",
            "44/44 [==============================] - 1s 14ms/step - loss: 0.5409 - accuracy: 0.7353 - val_loss: 0.5307 - val_accuracy: 0.7441\n",
            "Epoch 18/20\n",
            "44/44 [==============================] - 1s 14ms/step - loss: 0.5264 - accuracy: 0.7482 - val_loss: 0.5285 - val_accuracy: 0.7441\n",
            "Epoch 19/20\n",
            "44/44 [==============================] - 1s 14ms/step - loss: 0.5201 - accuracy: 0.7525 - val_loss: 0.5263 - val_accuracy: 0.7441\n",
            "Epoch 20/20\n",
            "44/44 [==============================] - 1s 14ms/step - loss: 0.5339 - accuracy: 0.7344 - val_loss: 0.5239 - val_accuracy: 0.7441\n"
          ],
          "name": "stdout"
        }
      ]
    },
    {
      "cell_type": "code",
      "metadata": {
        "colab": {
          "base_uri": "https://localhost:8080/",
          "height": 295
        },
        "id": "V4ETPNM4CC1g",
        "outputId": "44328313-6e19-4fd5-d398-2db5987a8c25"
      },
      "source": [
        "# summarize history for accuracy\n",
        "plt.plot(model_history.history['accuracy'])\n",
        "plt.plot(model_history.history['val_accuracy'])\n",
        "plt.title('model accuracy')\n",
        "plt.ylabel('accuracy')\n",
        "plt.xlabel('epoch')\n",
        "plt.legend(['train', 'validation'], loc='upper left')\n",
        "plt.show()"
      ],
      "execution_count": null,
      "outputs": [
        {
          "output_type": "display_data",
          "data": {
            "image/png": "[encoded data removed]",
            "text/plain": [
              "<Figure size 432x288 with 1 Axes>"
            ]
          },
          "metadata": {
            "tags": [],
            "needs_background": "light"
          }
        }
      ]
    },
    {
      "cell_type": "markdown",
      "metadata": {
        "id": "NLQ_5Pk9Cjxw"
      },
      "source": [
        "### 5. Tuning hyperparameters of neural network"
      ]
    },
    {
      "cell_type": "code",
      "metadata": {
        "id": "OVt-L0huCjRB"
      },
      "source": [
        "# defining the adam optimizer and setting the learning rate as 10^-5\n",
        "adam = Adam(learning_rate=1e-4)"
      ],
      "execution_count": null,
      "outputs": []
    },
    {
      "cell_type": "code",
      "metadata": {
        "id": "BpEtAHdkCjNH"
      },
      "source": [
        "# defining the architecture of the model\n",
        "model=Sequential()\n",
        "model.add(InputLayer(input_shape=(x_train.shape[1],)))\n",
        "model.add(Dense(100, activation='sigmoid'))\n",
        "model.add(Dense(units=1, activation='sigmoid'))"
      ],
      "execution_count": null,
      "outputs": []
    },
    {
      "cell_type": "code",
      "metadata": {
        "id": "-EL-GDWaCjLH"
      },
      "source": [
        "# compiling the model\n",
        "model.compile(loss='binary_crossentropy', optimizer=adam, metrics=['accuracy'])"
      ],
      "execution_count": null,
      "outputs": []
    },
    {
      "cell_type": "code",
      "metadata": {
        "colab": {
          "base_uri": "https://localhost:8080/"
        },
        "id": "LlPdV25GCjI-",
        "outputId": "06bef242-5b99-48c8-8c82-4a03cbca975a"
      },
      "source": [
        "# training the model\n",
        "model_history = model.fit(x_train, y_train, epochs=20, batch_size=128,validation_data=(x_test,y_test))"
      ],
      "execution_count": null,
      "outputs": [
        {
          "output_type": "stream",
          "text": [
            "Epoch 1/20\n",
            "44/44 [==============================] - 1s 19ms/step - loss: 0.5836 - accuracy: 0.7407 - val_loss: 0.5567 - val_accuracy: 0.7441\n",
            "Epoch 2/20\n",
            "44/44 [==============================] - 1s 15ms/step - loss: 0.5448 - accuracy: 0.7487 - val_loss: 0.5371 - val_accuracy: 0.7441\n",
            "Epoch 3/20\n",
            "44/44 [==============================] - 1s 15ms/step - loss: 0.5272 - accuracy: 0.7449 - val_loss: 0.5222 - val_accuracy: 0.7441\n",
            "Epoch 4/20\n",
            "44/44 [==============================] - 1s 15ms/step - loss: 0.5144 - accuracy: 0.7412 - val_loss: 0.5085 - val_accuracy: 0.7441\n",
            "Epoch 5/20\n",
            "44/44 [==============================] - 1s 15ms/step - loss: 0.5017 - accuracy: 0.7368 - val_loss: 0.4951 - val_accuracy: 0.7441\n",
            "Epoch 6/20\n",
            "44/44 [==============================] - 1s 15ms/step - loss: 0.4777 - accuracy: 0.7473 - val_loss: 0.4822 - val_accuracy: 0.7441\n",
            "Epoch 7/20\n",
            "44/44 [==============================] - 1s 15ms/step - loss: 0.4690 - accuracy: 0.7391 - val_loss: 0.4693 - val_accuracy: 0.7441\n",
            "Epoch 8/20\n",
            "44/44 [==============================] - 1s 15ms/step - loss: 0.4487 - accuracy: 0.7458 - val_loss: 0.4571 - val_accuracy: 0.7441\n",
            "Epoch 9/20\n",
            "44/44 [==============================] - 1s 15ms/step - loss: 0.4391 - accuracy: 0.7408 - val_loss: 0.4451 - val_accuracy: 0.7454\n",
            "Epoch 10/20\n",
            "44/44 [==============================] - 1s 14ms/step - loss: 0.4187 - accuracy: 0.7497 - val_loss: 0.4335 - val_accuracy: 0.7466\n",
            "Epoch 11/20\n",
            "44/44 [==============================] - 1s 15ms/step - loss: 0.4058 - accuracy: 0.7539 - val_loss: 0.4222 - val_accuracy: 0.7500\n",
            "Epoch 12/20\n",
            "44/44 [==============================] - 1s 15ms/step - loss: 0.3922 - accuracy: 0.7626 - val_loss: 0.4111 - val_accuracy: 0.7563\n",
            "Epoch 13/20\n",
            "44/44 [==============================] - 1s 15ms/step - loss: 0.3835 - accuracy: 0.7745 - val_loss: 0.4007 - val_accuracy: 0.7681\n",
            "Epoch 14/20\n",
            "44/44 [==============================] - 1s 14ms/step - loss: 0.3738 - accuracy: 0.7846 - val_loss: 0.3904 - val_accuracy: 0.7870\n",
            "Epoch 15/20\n",
            "44/44 [==============================] - 1s 15ms/step - loss: 0.3527 - accuracy: 0.8151 - val_loss: 0.3806 - val_accuracy: 0.7976\n",
            "Epoch 16/20\n",
            "44/44 [==============================] - 1s 15ms/step - loss: 0.3463 - accuracy: 0.8244 - val_loss: 0.3713 - val_accuracy: 0.8136\n",
            "Epoch 17/20\n",
            "44/44 [==============================] - 1s 15ms/step - loss: 0.3360 - accuracy: 0.8411 - val_loss: 0.3625 - val_accuracy: 0.8283\n",
            "Epoch 18/20\n",
            "44/44 [==============================] - 1s 15ms/step - loss: 0.3242 - accuracy: 0.8628 - val_loss: 0.3541 - val_accuracy: 0.8388\n",
            "Epoch 19/20\n",
            "44/44 [==============================] - 1s 14ms/step - loss: 0.3130 - accuracy: 0.8813 - val_loss: 0.3461 - val_accuracy: 0.8485\n",
            "Epoch 20/20\n",
            "44/44 [==============================] - 1s 14ms/step - loss: 0.3045 - accuracy: 0.8924 - val_loss: 0.3386 - val_accuracy: 0.8561\n"
          ],
          "name": "stdout"
        }
      ]
    },
    {
      "cell_type": "code",
      "metadata": {
        "colab": {
          "base_uri": "https://localhost:8080/",
          "height": 295
        },
        "id": "w_03qohYCjGQ",
        "outputId": "6b6b2b69-5d47-473b-cae1-0284c5255030"
      },
      "source": [
        "# summarize history for accuracy\n",
        "plt.plot(model_history.history['accuracy'])\n",
        "plt.plot(model_history.history['val_accuracy'])\n",
        "plt.title('model accuracy')\n",
        "plt.ylabel('accuracy')\n",
        "plt.xlabel('epoch')\n",
        "plt.legend(['train', 'validation'], loc='upper left')\n",
        "plt.show()"
      ],
      "execution_count": null,
      "outputs": [
        {
          "output_type": "display_data",
          "data": {
            "image/png": "[encoded data removed]",
            "text/plain": [
              "<Figure size 432x288 with 1 Axes>"
            ]
          },
          "metadata": {
            "tags": [],
            "needs_background": "light"
          }
        }
      ]
    },
    {
      "cell_type": "markdown",
      "metadata": {
        "id": "xXtmF1N-C-wA"
      },
      "source": [
        "#### Increasing the number of epochs"
      ]
    },
    {
      "cell_type": "code",
      "metadata": {
        "id": "RmOhcb3ZDKN3"
      },
      "source": [
        "# defining the architecture of the model\n",
        "model=Sequential()\n",
        "model.add(InputLayer(input_shape=(x_train.shape[1],)))\n",
        "model.add(Dense(100, activation='sigmoid'))\n",
        "model.add(Dense(units=1, activation='sigmoid'))"
      ],
      "execution_count": null,
      "outputs": []
    },
    {
      "cell_type": "code",
      "metadata": {
        "id": "9XhMght4DDcF"
      },
      "source": [
        "# compiling the model\n",
        "model.compile(loss='binary_crossentropy', optimizer=adam, metrics=['accuracy'])"
      ],
      "execution_count": null,
      "outputs": []
    },
    {
      "cell_type": "code",
      "metadata": {
        "colab": {
          "base_uri": "https://localhost:8080/"
        },
        "id": "ZMw07NdMDDYp",
        "outputId": "97ddc458-c555-4c4e-acc6-c5b8d89bb53e"
      },
      "source": [
        "# training the model\n",
        "model_history = model.fit(x_train, y_train, epochs=50, batch_size=128,validation_data=(x_test,y_test))"
      ],
      "execution_count": null,
      "outputs": [
        {
          "output_type": "stream",
          "text": [
            "Epoch 1/50\n",
            "44/44 [==============================] - 1s 19ms/step - loss: 0.7235 - accuracy: 0.4456 - val_loss: 0.5078 - val_accuracy: 0.7441\n",
            "Epoch 2/50\n",
            "44/44 [==============================] - 1s 15ms/step - loss: 0.4883 - accuracy: 0.7370 - val_loss: 0.4638 - val_accuracy: 0.7441\n",
            "Epoch 3/50\n",
            "44/44 [==============================] - 1s 15ms/step - loss: 0.4476 - accuracy: 0.7371 - val_loss: 0.4383 - val_accuracy: 0.7454\n",
            "Epoch 4/50\n",
            "44/44 [==============================] - 1s 15ms/step - loss: 0.4107 - accuracy: 0.7508 - val_loss: 0.4180 - val_accuracy: 0.7529\n",
            "Epoch 5/50\n",
            "44/44 [==============================] - 1s 15ms/step - loss: 0.3910 - accuracy: 0.7608 - val_loss: 0.4009 - val_accuracy: 0.7618\n",
            "Epoch 6/50\n",
            "44/44 [==============================] - 1s 15ms/step - loss: 0.3687 - accuracy: 0.7904 - val_loss: 0.3861 - val_accuracy: 0.7879\n",
            "Epoch 7/50\n",
            "44/44 [==============================] - 1s 15ms/step - loss: 0.3512 - accuracy: 0.8222 - val_loss: 0.3730 - val_accuracy: 0.8123\n",
            "Epoch 8/50\n",
            "44/44 [==============================] - 1s 15ms/step - loss: 0.3309 - accuracy: 0.8480 - val_loss: 0.3613 - val_accuracy: 0.8295\n",
            "Epoch 9/50\n",
            "44/44 [==============================] - 1s 15ms/step - loss: 0.3211 - accuracy: 0.8646 - val_loss: 0.3507 - val_accuracy: 0.8413\n",
            "Epoch 10/50\n",
            "44/44 [==============================] - 1s 15ms/step - loss: 0.3120 - accuracy: 0.8840 - val_loss: 0.3412 - val_accuracy: 0.8540\n",
            "Epoch 11/50\n",
            "44/44 [==============================] - 1s 15ms/step - loss: 0.2947 - accuracy: 0.8968 - val_loss: 0.3325 - val_accuracy: 0.8620\n",
            "Epoch 12/50\n",
            "44/44 [==============================] - 1s 14ms/step - loss: 0.2913 - accuracy: 0.9014 - val_loss: 0.3247 - val_accuracy: 0.8632\n",
            "Epoch 13/50\n",
            "44/44 [==============================] - 1s 14ms/step - loss: 0.2788 - accuracy: 0.9093 - val_loss: 0.3176 - val_accuracy: 0.8699\n",
            "Epoch 14/50\n",
            "44/44 [==============================] - 1s 15ms/step - loss: 0.2700 - accuracy: 0.9138 - val_loss: 0.3111 - val_accuracy: 0.8771\n",
            "Epoch 15/50\n",
            "44/44 [==============================] - 1s 14ms/step - loss: 0.2581 - accuracy: 0.9189 - val_loss: 0.3051 - val_accuracy: 0.8784\n",
            "Epoch 16/50\n",
            "44/44 [==============================] - 1s 15ms/step - loss: 0.2534 - accuracy: 0.9174 - val_loss: 0.2996 - val_accuracy: 0.8809\n",
            "Epoch 17/50\n",
            "44/44 [==============================] - 1s 15ms/step - loss: 0.2421 - accuracy: 0.9257 - val_loss: 0.2945 - val_accuracy: 0.8834\n",
            "Epoch 18/50\n",
            "44/44 [==============================] - 1s 14ms/step - loss: 0.2412 - accuracy: 0.9234 - val_loss: 0.2899 - val_accuracy: 0.8864\n",
            "Epoch 19/50\n",
            "44/44 [==============================] - 1s 15ms/step - loss: 0.2321 - accuracy: 0.9314 - val_loss: 0.2858 - val_accuracy: 0.8889\n",
            "Epoch 20/50\n",
            "44/44 [==============================] - 1s 15ms/step - loss: 0.2313 - accuracy: 0.9287 - val_loss: 0.2819 - val_accuracy: 0.8885\n",
            "Epoch 21/50\n",
            "44/44 [==============================] - 1s 15ms/step - loss: 0.2174 - accuracy: 0.9378 - val_loss: 0.2783 - val_accuracy: 0.8897\n",
            "Epoch 22/50\n",
            "44/44 [==============================] - 1s 15ms/step - loss: 0.2147 - accuracy: 0.9393 - val_loss: 0.2751 - val_accuracy: 0.8906\n",
            "Epoch 23/50\n",
            "44/44 [==============================] - 1s 15ms/step - loss: 0.2060 - accuracy: 0.9412 - val_loss: 0.2721 - val_accuracy: 0.8906\n",
            "Epoch 24/50\n",
            "44/44 [==============================] - 1s 15ms/step - loss: 0.2007 - accuracy: 0.9415 - val_loss: 0.2694 - val_accuracy: 0.8935\n",
            "Epoch 25/50\n",
            "44/44 [==============================] - 1s 15ms/step - loss: 0.2012 - accuracy: 0.9386 - val_loss: 0.2668 - val_accuracy: 0.8931\n",
            "Epoch 26/50\n",
            "44/44 [==============================] - 1s 16ms/step - loss: 0.1992 - accuracy: 0.9409 - val_loss: 0.2645 - val_accuracy: 0.8944\n",
            "Epoch 27/50\n",
            "44/44 [==============================] - 1s 15ms/step - loss: 0.1921 - accuracy: 0.9425 - val_loss: 0.2623 - val_accuracy: 0.8948\n",
            "Epoch 28/50\n",
            "44/44 [==============================] - 1s 15ms/step - loss: 0.1921 - accuracy: 0.9421 - val_loss: 0.2603 - val_accuracy: 0.8948\n",
            "Epoch 29/50\n",
            "44/44 [==============================] - 1s 15ms/step - loss: 0.1831 - accuracy: 0.9456 - val_loss: 0.2585 - val_accuracy: 0.8965\n",
            "Epoch 30/50\n",
            "44/44 [==============================] - 1s 15ms/step - loss: 0.1844 - accuracy: 0.9443 - val_loss: 0.2567 - val_accuracy: 0.8977\n",
            "Epoch 31/50\n",
            "44/44 [==============================] - 1s 15ms/step - loss: 0.1717 - accuracy: 0.9488 - val_loss: 0.2551 - val_accuracy: 0.8977\n",
            "Epoch 32/50\n",
            "44/44 [==============================] - 1s 15ms/step - loss: 0.1767 - accuracy: 0.9493 - val_loss: 0.2537 - val_accuracy: 0.8981\n",
            "Epoch 33/50\n",
            "44/44 [==============================] - 1s 15ms/step - loss: 0.1763 - accuracy: 0.9424 - val_loss: 0.2524 - val_accuracy: 0.8994\n",
            "Epoch 34/50\n",
            "44/44 [==============================] - 1s 15ms/step - loss: 0.1706 - accuracy: 0.9460 - val_loss: 0.2511 - val_accuracy: 0.8990\n",
            "Epoch 35/50\n",
            "44/44 [==============================] - 1s 14ms/step - loss: 0.1648 - accuracy: 0.9543 - val_loss: 0.2500 - val_accuracy: 0.8994\n",
            "Epoch 36/50\n",
            "44/44 [==============================] - 1s 15ms/step - loss: 0.1675 - accuracy: 0.9428 - val_loss: 0.2489 - val_accuracy: 0.8990\n",
            "Epoch 37/50\n",
            "44/44 [==============================] - 1s 14ms/step - loss: 0.1698 - accuracy: 0.9452 - val_loss: 0.2479 - val_accuracy: 0.8977\n",
            "Epoch 38/50\n",
            "44/44 [==============================] - 1s 15ms/step - loss: 0.1493 - accuracy: 0.9563 - val_loss: 0.2469 - val_accuracy: 0.8981\n",
            "Epoch 39/50\n",
            "44/44 [==============================] - 1s 14ms/step - loss: 0.1588 - accuracy: 0.9503 - val_loss: 0.2460 - val_accuracy: 0.8981\n",
            "Epoch 40/50\n",
            "44/44 [==============================] - 1s 15ms/step - loss: 0.1580 - accuracy: 0.9504 - val_loss: 0.2453 - val_accuracy: 0.8973\n",
            "Epoch 41/50\n",
            "44/44 [==============================] - 1s 15ms/step - loss: 0.1506 - accuracy: 0.9529 - val_loss: 0.2445 - val_accuracy: 0.8973\n",
            "Epoch 42/50\n",
            "44/44 [==============================] - 1s 15ms/step - loss: 0.1513 - accuracy: 0.9547 - val_loss: 0.2438 - val_accuracy: 0.8981\n",
            "Epoch 43/50\n",
            "44/44 [==============================] - 1s 15ms/step - loss: 0.1490 - accuracy: 0.9530 - val_loss: 0.2432 - val_accuracy: 0.8977\n",
            "Epoch 44/50\n",
            "44/44 [==============================] - 1s 15ms/step - loss: 0.1481 - accuracy: 0.9530 - val_loss: 0.2426 - val_accuracy: 0.8973\n",
            "Epoch 45/50\n",
            "44/44 [==============================] - 1s 14ms/step - loss: 0.1432 - accuracy: 0.9595 - val_loss: 0.2420 - val_accuracy: 0.8960\n",
            "Epoch 46/50\n",
            "44/44 [==============================] - 1s 18ms/step - loss: 0.1390 - accuracy: 0.9595 - val_loss: 0.2416 - val_accuracy: 0.8965\n",
            "Epoch 47/50\n",
            "44/44 [==============================] - 1s 15ms/step - loss: 0.1414 - accuracy: 0.9557 - val_loss: 0.2411 - val_accuracy: 0.8965\n",
            "Epoch 48/50\n",
            "44/44 [==============================] - 1s 15ms/step - loss: 0.1376 - accuracy: 0.9603 - val_loss: 0.2406 - val_accuracy: 0.8960\n",
            "Epoch 49/50\n",
            "44/44 [==============================] - 1s 14ms/step - loss: 0.1366 - accuracy: 0.9590 - val_loss: 0.2403 - val_accuracy: 0.8960\n",
            "Epoch 50/50\n",
            "44/44 [==============================] - 1s 15ms/step - loss: 0.1343 - accuracy: 0.9590 - val_loss: 0.2399 - val_accuracy: 0.8956\n"
          ],
          "name": "stdout"
        }
      ]
    },
    {
      "cell_type": "code",
      "metadata": {
        "colab": {
          "base_uri": "https://localhost:8080/",
          "height": 295
        },
        "id": "Wk-pC16pCjD3",
        "outputId": "76af46d4-c108-4712-a06a-6fca62bf63e5"
      },
      "source": [
        "# summarize history for accuracy\n",
        "plt.plot(model_history.history['accuracy'])\n",
        "plt.plot(model_history.history['val_accuracy'])\n",
        "plt.title('model accuracy')\n",
        "plt.ylabel('accuracy')\n",
        "plt.xlabel('epoch')\n",
        "plt.legend(['train', 'validation'], loc='upper left')\n",
        "plt.show()"
      ],
      "execution_count": null,
      "outputs": [
        {
          "output_type": "display_data",
          "data": {
            "image/png": "[encoded data removed]",
            "text/plain": [
              "<Figure size 432x288 with 1 Axes>"
            ]
          },
          "metadata": {
            "tags": [],
            "needs_background": "light"
          }
        }
      ]
    },
    {
      "cell_type": "markdown",
      "metadata": {
        "id": "679KYRk3Defl"
      },
      "source": [
        "#### Adding dropout layers"
      ]
    },
    {
      "cell_type": "code",
      "metadata": {
        "id": "O05oimNLDqN5"
      },
      "source": [
        "# importing the dropout layer\n",
        "from keras.layers import Dropout"
      ],
      "execution_count": null,
      "outputs": []
    },
    {
      "cell_type": "code",
      "metadata": {
        "id": "HSAdhorTCjBh"
      },
      "source": [
        "# defining the architecture of the model\n",
        "model=Sequential()\n",
        "model.add(InputLayer(input_shape=(x_train.shape[1],)))\n",
        "model.add(Dense(100, activation='sigmoid'))\n",
        "model.add(Dropout(0.5))\n",
        "model.add(Dense(units=1, activation='sigmoid'))"
      ],
      "execution_count": null,
      "outputs": []
    },
    {
      "cell_type": "code",
      "metadata": {
        "colab": {
          "base_uri": "https://localhost:8080/"
        },
        "id": "n0B9k_m3D9UK",
        "outputId": "4e85ab9a-ff63-4d76-9423-5116ec8880f3"
      },
      "source": [
        "# summary of the model\n",
        "model.summary()"
      ],
      "execution_count": null,
      "outputs": [
        {
          "output_type": "stream",
          "text": [
            "Model: \"sequential_3\"\n",
            "_________________________________________________________________\n",
            "Layer (type)                 Output Shape              Param #   \n",
            "=================================================================\n",
            "dense_6 (Dense)              (None, 100)               1772200   \n",
            "_________________________________________________________________\n",
            "dropout (Dropout)            (None, 100)               0         \n",
            "_________________________________________________________________\n",
            "dense_7 (Dense)              (None, 1)                 101       \n",
            "=================================================================\n",
            "Total params: 1,772,301\n",
            "Trainable params: 1,772,301\n",
            "Non-trainable params: 0\n",
            "_________________________________________________________________\n"
          ],
          "name": "stdout"
        }
      ]
    },
    {
      "cell_type": "code",
      "metadata": {
        "id": "_PdkFUHOD9Qe"
      },
      "source": [
        "# compiling the model\n",
        "model.compile(loss='binary_crossentropy', optimizer=adam, metrics=['accuracy'])"
      ],
      "execution_count": null,
      "outputs": []
    },
    {
      "cell_type": "code",
      "metadata": {
        "colab": {
          "base_uri": "https://localhost:8080/"
        },
        "id": "e0NGS9tED9Nu",
        "outputId": "4cdfa78c-c311-4f06-e66f-a1b694f52e0b"
      },
      "source": [
        "# training the model\n",
        "model_history = model.fit(x_train, y_train, epochs=50, batch_size=128,validation_data=(x_test,y_test))"
      ],
      "execution_count": null,
      "outputs": [
        {
          "output_type": "stream",
          "text": [
            "Epoch 1/50\n",
            "44/44 [==============================] - 3s 20ms/step - loss: 0.5951 - accuracy: 0.7145 - val_loss: 0.5030 - val_accuracy: 0.7441\n",
            "Epoch 2/50\n",
            "44/44 [==============================] - 1s 15ms/step - loss: 0.5200 - accuracy: 0.7486 - val_loss: 0.4637 - val_accuracy: 0.7441\n",
            "Epoch 3/50\n",
            "44/44 [==============================] - 1s 15ms/step - loss: 0.4875 - accuracy: 0.7688 - val_loss: 0.4376 - val_accuracy: 0.7454\n",
            "Epoch 4/50\n",
            "44/44 [==============================] - 1s 15ms/step - loss: 0.4634 - accuracy: 0.7726 - val_loss: 0.4174 - val_accuracy: 0.7466\n",
            "Epoch 5/50\n",
            "44/44 [==============================] - 1s 15ms/step - loss: 0.4354 - accuracy: 0.7823 - val_loss: 0.3999 - val_accuracy: 0.7559\n",
            "Epoch 6/50\n",
            "44/44 [==============================] - 1s 15ms/step - loss: 0.4045 - accuracy: 0.8030 - val_loss: 0.3847 - val_accuracy: 0.7744\n",
            "Epoch 7/50\n",
            "44/44 [==============================] - 1s 14ms/step - loss: 0.3980 - accuracy: 0.8116 - val_loss: 0.3719 - val_accuracy: 0.7929\n",
            "Epoch 8/50\n",
            "44/44 [==============================] - 1s 15ms/step - loss: 0.3856 - accuracy: 0.8132 - val_loss: 0.3604 - val_accuracy: 0.8114\n",
            "Epoch 9/50\n",
            "44/44 [==============================] - 1s 15ms/step - loss: 0.3696 - accuracy: 0.8262 - val_loss: 0.3500 - val_accuracy: 0.8258\n",
            "Epoch 10/50\n",
            "44/44 [==============================] - 1s 15ms/step - loss: 0.3583 - accuracy: 0.8367 - val_loss: 0.3407 - val_accuracy: 0.8413\n",
            "Epoch 11/50\n",
            "44/44 [==============================] - 1s 15ms/step - loss: 0.3399 - accuracy: 0.8460 - val_loss: 0.3324 - val_accuracy: 0.8489\n",
            "Epoch 12/50\n",
            "44/44 [==============================] - 1s 15ms/step - loss: 0.3323 - accuracy: 0.8492 - val_loss: 0.3251 - val_accuracy: 0.8531\n",
            "Epoch 13/50\n",
            "44/44 [==============================] - 1s 15ms/step - loss: 0.3224 - accuracy: 0.8482 - val_loss: 0.3184 - val_accuracy: 0.8577\n",
            "Epoch 14/50\n",
            "44/44 [==============================] - 1s 15ms/step - loss: 0.3249 - accuracy: 0.8542 - val_loss: 0.3123 - val_accuracy: 0.8653\n",
            "Epoch 15/50\n",
            "44/44 [==============================] - 1s 15ms/step - loss: 0.3096 - accuracy: 0.8588 - val_loss: 0.3069 - val_accuracy: 0.8695\n",
            "Epoch 16/50\n",
            "44/44 [==============================] - 1s 15ms/step - loss: 0.3046 - accuracy: 0.8612 - val_loss: 0.3018 - val_accuracy: 0.8716\n",
            "Epoch 17/50\n",
            "44/44 [==============================] - 1s 16ms/step - loss: 0.3038 - accuracy: 0.8610 - val_loss: 0.2971 - val_accuracy: 0.8742\n",
            "Epoch 18/50\n",
            "44/44 [==============================] - 1s 18ms/step - loss: 0.2908 - accuracy: 0.8700 - val_loss: 0.2929 - val_accuracy: 0.8796\n",
            "Epoch 19/50\n",
            "44/44 [==============================] - 1s 19ms/step - loss: 0.2855 - accuracy: 0.8740 - val_loss: 0.2892 - val_accuracy: 0.8805\n",
            "Epoch 20/50\n",
            "44/44 [==============================] - 1s 18ms/step - loss: 0.2704 - accuracy: 0.8908 - val_loss: 0.2857 - val_accuracy: 0.8826\n",
            "Epoch 21/50\n",
            "44/44 [==============================] - 1s 19ms/step - loss: 0.2816 - accuracy: 0.8768 - val_loss: 0.2825 - val_accuracy: 0.8859\n",
            "Epoch 22/50\n",
            "44/44 [==============================] - 1s 18ms/step - loss: 0.2850 - accuracy: 0.8785 - val_loss: 0.2796 - val_accuracy: 0.8897\n",
            "Epoch 23/50\n",
            "44/44 [==============================] - 1s 15ms/step - loss: 0.2697 - accuracy: 0.8824 - val_loss: 0.2769 - val_accuracy: 0.8889\n",
            "Epoch 24/50\n",
            "44/44 [==============================] - 1s 15ms/step - loss: 0.2627 - accuracy: 0.8887 - val_loss: 0.2743 - val_accuracy: 0.8897\n",
            "Epoch 25/50\n",
            "44/44 [==============================] - 1s 15ms/step - loss: 0.2529 - accuracy: 0.8969 - val_loss: 0.2721 - val_accuracy: 0.8893\n",
            "Epoch 26/50\n",
            "44/44 [==============================] - 1s 15ms/step - loss: 0.2506 - accuracy: 0.8912 - val_loss: 0.2700 - val_accuracy: 0.8914\n",
            "Epoch 27/50\n",
            "44/44 [==============================] - 1s 20ms/step - loss: 0.2566 - accuracy: 0.8907 - val_loss: 0.2681 - val_accuracy: 0.8918\n",
            "Epoch 28/50\n",
            "44/44 [==============================] - 1s 18ms/step - loss: 0.2543 - accuracy: 0.8911 - val_loss: 0.2665 - val_accuracy: 0.8918\n",
            "Epoch 29/50\n",
            "44/44 [==============================] - 1s 15ms/step - loss: 0.2424 - accuracy: 0.9032 - val_loss: 0.2648 - val_accuracy: 0.8923\n",
            "Epoch 30/50\n",
            "44/44 [==============================] - 1s 15ms/step - loss: 0.2405 - accuracy: 0.9022 - val_loss: 0.2631 - val_accuracy: 0.8935\n",
            "Epoch 31/50\n",
            "44/44 [==============================] - 1s 15ms/step - loss: 0.2380 - accuracy: 0.8930 - val_loss: 0.2616 - val_accuracy: 0.8952\n",
            "Epoch 32/50\n",
            "44/44 [==============================] - 1s 15ms/step - loss: 0.2384 - accuracy: 0.8998 - val_loss: 0.2602 - val_accuracy: 0.8956\n",
            "Epoch 33/50\n",
            "44/44 [==============================] - 1s 15ms/step - loss: 0.2288 - accuracy: 0.9059 - val_loss: 0.2590 - val_accuracy: 0.8956\n",
            "Epoch 34/50\n",
            "44/44 [==============================] - 1s 17ms/step - loss: 0.2357 - accuracy: 0.8989 - val_loss: 0.2578 - val_accuracy: 0.8956\n",
            "Epoch 35/50\n",
            "44/44 [==============================] - 1s 19ms/step - loss: 0.2306 - accuracy: 0.9008 - val_loss: 0.2566 - val_accuracy: 0.8973\n",
            "Epoch 36/50\n",
            "44/44 [==============================] - 1s 19ms/step - loss: 0.2234 - accuracy: 0.9096 - val_loss: 0.2555 - val_accuracy: 0.8965\n",
            "Epoch 37/50\n",
            "44/44 [==============================] - 1s 19ms/step - loss: 0.2356 - accuracy: 0.8968 - val_loss: 0.2545 - val_accuracy: 0.8965\n",
            "Epoch 38/50\n",
            "44/44 [==============================] - 1s 18ms/step - loss: 0.2260 - accuracy: 0.9012 - val_loss: 0.2536 - val_accuracy: 0.8969\n",
            "Epoch 39/50\n",
            "44/44 [==============================] - 1s 17ms/step - loss: 0.2320 - accuracy: 0.9076 - val_loss: 0.2528 - val_accuracy: 0.8973\n",
            "Epoch 40/50\n",
            "44/44 [==============================] - 1s 15ms/step - loss: 0.2215 - accuracy: 0.9082 - val_loss: 0.2520 - val_accuracy: 0.8969\n",
            "Epoch 41/50\n",
            "44/44 [==============================] - 1s 15ms/step - loss: 0.2057 - accuracy: 0.9185 - val_loss: 0.2512 - val_accuracy: 0.8965\n",
            "Epoch 42/50\n",
            "44/44 [==============================] - 1s 15ms/step - loss: 0.2161 - accuracy: 0.9110 - val_loss: 0.2505 - val_accuracy: 0.8977\n",
            "Epoch 43/50\n",
            "44/44 [==============================] - 1s 15ms/step - loss: 0.2103 - accuracy: 0.9082 - val_loss: 0.2498 - val_accuracy: 0.8981\n",
            "Epoch 44/50\n",
            "44/44 [==============================] - 1s 15ms/step - loss: 0.2160 - accuracy: 0.9093 - val_loss: 0.2491 - val_accuracy: 0.8994\n",
            "Epoch 45/50\n",
            "44/44 [==============================] - 1s 15ms/step - loss: 0.2113 - accuracy: 0.9115 - val_loss: 0.2485 - val_accuracy: 0.8990\n",
            "Epoch 46/50\n",
            "44/44 [==============================] - 1s 15ms/step - loss: 0.2151 - accuracy: 0.9084 - val_loss: 0.2480 - val_accuracy: 0.8990\n",
            "Epoch 47/50\n",
            "44/44 [==============================] - 1s 15ms/step - loss: 0.2107 - accuracy: 0.9147 - val_loss: 0.2474 - val_accuracy: 0.8994\n",
            "Epoch 48/50\n",
            "44/44 [==============================] - 1s 15ms/step - loss: 0.2097 - accuracy: 0.9074 - val_loss: 0.2469 - val_accuracy: 0.9003\n",
            "Epoch 49/50\n",
            "44/44 [==============================] - 1s 15ms/step - loss: 0.2031 - accuracy: 0.9175 - val_loss: 0.2464 - val_accuracy: 0.9003\n",
            "Epoch 50/50\n",
            "44/44 [==============================] - 1s 14ms/step - loss: 0.2063 - accuracy: 0.9154 - val_loss: 0.2460 - val_accuracy: 0.8990\n"
          ],
          "name": "stdout"
        }
      ]
    },
    {
      "cell_type": "code",
      "metadata": {
        "colab": {
          "base_uri": "https://localhost:8080/",
          "height": 295
        },
        "id": "PrVyyaDBD9LP",
        "outputId": "92590d06-d7d2-471d-dd69-b37a815bb9f3"
      },
      "source": [
        "# summarize history for accuracy\n",
        "plt.plot(model_history.history['accuracy'])\n",
        "plt.plot(model_history.history['val_accuracy'])\n",
        "plt.title('model accuracy')\n",
        "plt.ylabel('accuracy')\n",
        "plt.xlabel('epoch')\n",
        "plt.legend(['train', 'validation'], loc='upper left')\n",
        "plt.show()"
      ],
      "execution_count": null,
      "outputs": [
        {
          "output_type": "display_data",
          "data": {
            "image/png": "[encoded data removed]",
            "text/plain": [
              "<Figure size 432x288 with 1 Axes>"
            ]
          },
          "metadata": {
            "tags": [],
            "needs_background": "light"
          }
        }
      ]
    },
    {
      "cell_type": "markdown",
      "metadata": {
        "id": "hL-tl00ZESfS"
      },
      "source": [
        "#### Model Checkpointing"
      ]
    },
    {
      "cell_type": "code",
      "metadata": {
        "id": "q0qpG3BND9Ip"
      },
      "source": [
        "# importing model checkpointing from keras callbacks\n",
        "from keras.callbacks import ModelCheckpoint\n",
        "\n",
        "# defining the path to store the weights\n",
        "filepath=\"best_weights.hdf5\"\n",
        "\n",
        "# defining the model checkpointing and metric to monitor\n",
        "checkpoint = ModelCheckpoint(filepath, monitor='val_accuracy', verbose=1, save_best_only=True, mode='max')\n",
        "\n",
        "# defining checkpointing variable\n",
        "callbacks_list = [checkpoint]"
      ],
      "execution_count": null,
      "outputs": []
    },
    {
      "cell_type": "code",
      "metadata": {
        "id": "MVepLm_oCi_D"
      },
      "source": [
        "# defining the architecture of the model\n",
        "model=Sequential()\n",
        "model.add(InputLayer(input_shape=(x_train.shape[1],)))\n",
        "model.add(Dense(100, activation='sigmoid'))\n",
        "model.add(Dropout(0.5))\n",
        "model.add(Dense(units=1, activation='sigmoid'))"
      ],
      "execution_count": null,
      "outputs": []
    },
    {
      "cell_type": "code",
      "metadata": {
        "id": "Uq-PdbE2EhcG"
      },
      "source": [
        "# compiling the model\n",
        "model.compile(loss='binary_crossentropy', optimizer=adam, metrics=['accuracy'])"
      ],
      "execution_count": null,
      "outputs": []
    },
    {
      "cell_type": "code",
      "metadata": {
        "colab": {
          "base_uri": "https://localhost:8080/"
        },
        "id": "hKWfbkwzEhZC",
        "outputId": "bb3b9dda-40b2-4c46-92d8-5543696fbd28"
      },
      "source": [
        "# training the model\n",
        "model_history = model.fit(x_train, y_train, epochs=100, batch_size=256,validation_data=(x_test,y_test), callbacks=callbacks_list)"
      ],
      "execution_count": null,
      "outputs": [
        {
          "output_type": "stream",
          "text": [
            "Epoch 1/150\n",
            "22/22 [==============================] - 2s 52ms/step - loss: 0.7706 - accuracy: 0.4873 - val_loss: 0.5430 - val_accuracy: 0.7441\n",
            "\n",
            "Epoch 00001: val_accuracy improved from -inf to 0.74411, saving model to best_weights.hdf5\n",
            "Epoch 2/150\n",
            "22/22 [==============================] - 1s 27ms/step - loss: 0.5712 - accuracy: 0.7180 - val_loss: 0.4886 - val_accuracy: 0.7441\n",
            "\n",
            "Epoch 00002: val_accuracy did not improve from 0.74411\n",
            "Epoch 3/150\n",
            "22/22 [==============================] - 1s 27ms/step - loss: 0.5202 - accuracy: 0.7458 - val_loss: 0.4669 - val_accuracy: 0.7441\n",
            "\n",
            "Epoch 00003: val_accuracy did not improve from 0.74411\n",
            "Epoch 4/150\n",
            "22/22 [==============================] - 1s 28ms/step - loss: 0.4919 - accuracy: 0.7629 - val_loss: 0.4490 - val_accuracy: 0.7441\n",
            "\n",
            "Epoch 00004: val_accuracy did not improve from 0.74411\n",
            "Epoch 5/150\n",
            "22/22 [==============================] - 1s 28ms/step - loss: 0.4771 - accuracy: 0.7664 - val_loss: 0.4342 - val_accuracy: 0.7454\n",
            "\n",
            "Epoch 00005: val_accuracy improved from 0.74411 to 0.74537, saving model to best_weights.hdf5\n",
            "Epoch 6/150\n",
            "22/22 [==============================] - 1s 27ms/step - loss: 0.4569 - accuracy: 0.7732 - val_loss: 0.4216 - val_accuracy: 0.7471\n",
            "\n",
            "Epoch 00006: val_accuracy improved from 0.74537 to 0.74705, saving model to best_weights.hdf5\n",
            "Epoch 7/150\n",
            "22/22 [==============================] - 1s 27ms/step - loss: 0.4486 - accuracy: 0.7707 - val_loss: 0.4104 - val_accuracy: 0.7517\n",
            "\n",
            "Epoch 00007: val_accuracy improved from 0.74705 to 0.75168, saving model to best_weights.hdf5\n",
            "Epoch 8/150\n",
            "22/22 [==============================] - 1s 29ms/step - loss: 0.4372 - accuracy: 0.7897 - val_loss: 0.4004 - val_accuracy: 0.7555\n",
            "\n",
            "Epoch 00008: val_accuracy improved from 0.75168 to 0.75547, saving model to best_weights.hdf5\n",
            "Epoch 9/150\n",
            "22/22 [==============================] - 1s 28ms/step - loss: 0.4227 - accuracy: 0.7988 - val_loss: 0.3911 - val_accuracy: 0.7668\n",
            "\n",
            "Epoch 00009: val_accuracy improved from 0.75547 to 0.76684, saving model to best_weights.hdf5\n",
            "Epoch 10/150\n",
            "22/22 [==============================] - 1s 30ms/step - loss: 0.4068 - accuracy: 0.8008 - val_loss: 0.3827 - val_accuracy: 0.7774\n",
            "\n",
            "Epoch 00010: val_accuracy improved from 0.76684 to 0.77736, saving model to best_weights.hdf5\n",
            "Epoch 11/150\n",
            "22/22 [==============================] - 1s 27ms/step - loss: 0.3913 - accuracy: 0.8165 - val_loss: 0.3750 - val_accuracy: 0.7879\n",
            "\n",
            "Epoch 00011: val_accuracy improved from 0.77736 to 0.78788, saving model to best_weights.hdf5\n",
            "Epoch 12/150\n",
            "22/22 [==============================] - 1s 29ms/step - loss: 0.3819 - accuracy: 0.8236 - val_loss: 0.3680 - val_accuracy: 0.7988\n",
            "\n",
            "Epoch 00012: val_accuracy improved from 0.78788 to 0.79882, saving model to best_weights.hdf5\n",
            "Epoch 13/150\n",
            "22/22 [==============================] - 1s 28ms/step - loss: 0.3779 - accuracy: 0.8220 - val_loss: 0.3615 - val_accuracy: 0.8077\n",
            "\n",
            "Epoch 00013: val_accuracy improved from 0.79882 to 0.80766, saving model to best_weights.hdf5\n",
            "Epoch 14/150\n",
            "22/22 [==============================] - 1s 29ms/step - loss: 0.3666 - accuracy: 0.8289 - val_loss: 0.3552 - val_accuracy: 0.8224\n",
            "\n",
            "Epoch 00014: val_accuracy improved from 0.80766 to 0.82239, saving model to best_weights.hdf5\n",
            "Epoch 15/150\n",
            "22/22 [==============================] - 1s 27ms/step - loss: 0.3659 - accuracy: 0.8258 - val_loss: 0.3495 - val_accuracy: 0.8266\n",
            "\n",
            "Epoch 00015: val_accuracy improved from 0.82239 to 0.82660, saving model to best_weights.hdf5\n",
            "Epoch 16/150\n",
            "22/22 [==============================] - 1s 29ms/step - loss: 0.3655 - accuracy: 0.8248 - val_loss: 0.3440 - val_accuracy: 0.8354\n",
            "\n",
            "Epoch 00016: val_accuracy improved from 0.82660 to 0.83544, saving model to best_weights.hdf5\n",
            "Epoch 17/150\n",
            "22/22 [==============================] - 1s 28ms/step - loss: 0.3576 - accuracy: 0.8366 - val_loss: 0.3390 - val_accuracy: 0.8418\n",
            "\n",
            "Epoch 00017: val_accuracy improved from 0.83544 to 0.84175, saving model to best_weights.hdf5\n",
            "Epoch 18/150\n",
            "22/22 [==============================] - 1s 29ms/step - loss: 0.3463 - accuracy: 0.8409 - val_loss: 0.3343 - val_accuracy: 0.8460\n",
            "\n",
            "Epoch 00018: val_accuracy improved from 0.84175 to 0.84596, saving model to best_weights.hdf5\n",
            "Epoch 19/150\n",
            "22/22 [==============================] - 1s 28ms/step - loss: 0.3324 - accuracy: 0.8525 - val_loss: 0.3297 - val_accuracy: 0.8519\n",
            "\n",
            "Epoch 00019: val_accuracy improved from 0.84596 to 0.85185, saving model to best_weights.hdf5\n",
            "Epoch 20/150\n",
            "22/22 [==============================] - 1s 29ms/step - loss: 0.3380 - accuracy: 0.8551 - val_loss: 0.3254 - val_accuracy: 0.8552\n",
            "\n",
            "Epoch 00020: val_accuracy improved from 0.85185 to 0.85522, saving model to best_weights.hdf5\n",
            "Epoch 21/150\n",
            "22/22 [==============================] - 1s 29ms/step - loss: 0.3261 - accuracy: 0.8611 - val_loss: 0.3215 - val_accuracy: 0.8582\n",
            "\n",
            "Epoch 00021: val_accuracy improved from 0.85522 to 0.85816, saving model to best_weights.hdf5\n",
            "Epoch 22/150\n",
            "22/22 [==============================] - 1s 28ms/step - loss: 0.3235 - accuracy: 0.8540 - val_loss: 0.3175 - val_accuracy: 0.8603\n",
            "\n",
            "Epoch 00022: val_accuracy improved from 0.85816 to 0.86027, saving model to best_weights.hdf5\n",
            "Epoch 23/150\n",
            "22/22 [==============================] - 1s 31ms/step - loss: 0.3081 - accuracy: 0.8709 - val_loss: 0.3138 - val_accuracy: 0.8636\n",
            "\n",
            "Epoch 00023: val_accuracy improved from 0.86027 to 0.86364, saving model to best_weights.hdf5\n",
            "Epoch 24/150\n",
            "22/22 [==============================] - 1s 28ms/step - loss: 0.3075 - accuracy: 0.8735 - val_loss: 0.3102 - val_accuracy: 0.8657\n",
            "\n",
            "Epoch 00024: val_accuracy improved from 0.86364 to 0.86574, saving model to best_weights.hdf5\n",
            "Epoch 25/150\n",
            "22/22 [==============================] - 1s 28ms/step - loss: 0.3011 - accuracy: 0.8736 - val_loss: 0.3070 - val_accuracy: 0.8695\n",
            "\n",
            "Epoch 00025: val_accuracy improved from 0.86574 to 0.86953, saving model to best_weights.hdf5\n",
            "Epoch 26/150\n",
            "22/22 [==============================] - 1s 28ms/step - loss: 0.2939 - accuracy: 0.8748 - val_loss: 0.3040 - val_accuracy: 0.8699\n",
            "\n",
            "Epoch 00026: val_accuracy improved from 0.86953 to 0.86995, saving model to best_weights.hdf5\n",
            "Epoch 27/150\n",
            "22/22 [==============================] - 1s 29ms/step - loss: 0.2985 - accuracy: 0.8773 - val_loss: 0.3011 - val_accuracy: 0.8712\n",
            "\n",
            "Epoch 00027: val_accuracy improved from 0.86995 to 0.87121, saving model to best_weights.hdf5\n",
            "Epoch 28/150\n",
            "22/22 [==============================] - 1s 28ms/step - loss: 0.2920 - accuracy: 0.8781 - val_loss: 0.2982 - val_accuracy: 0.8771\n",
            "\n",
            "Epoch 00028: val_accuracy improved from 0.87121 to 0.87710, saving model to best_weights.hdf5\n",
            "Epoch 29/150\n",
            "22/22 [==============================] - 1s 28ms/step - loss: 0.2779 - accuracy: 0.8903 - val_loss: 0.2957 - val_accuracy: 0.8779\n",
            "\n",
            "Epoch 00029: val_accuracy improved from 0.87710 to 0.87795, saving model to best_weights.hdf5\n",
            "Epoch 30/150\n",
            "22/22 [==============================] - 1s 28ms/step - loss: 0.2888 - accuracy: 0.8785 - val_loss: 0.2930 - val_accuracy: 0.8779\n",
            "\n",
            "Epoch 00030: val_accuracy did not improve from 0.87795\n",
            "Epoch 31/150\n",
            "22/22 [==============================] - 1s 28ms/step - loss: 0.2851 - accuracy: 0.8798 - val_loss: 0.2906 - val_accuracy: 0.8801\n",
            "\n",
            "Epoch 00031: val_accuracy improved from 0.87795 to 0.88005, saving model to best_weights.hdf5\n",
            "Epoch 32/150\n",
            "22/22 [==============================] - 1s 28ms/step - loss: 0.2747 - accuracy: 0.8841 - val_loss: 0.2883 - val_accuracy: 0.8796\n",
            "\n",
            "Epoch 00032: val_accuracy did not improve from 0.88005\n",
            "Epoch 33/150\n",
            "22/22 [==============================] - 1s 27ms/step - loss: 0.2799 - accuracy: 0.8822 - val_loss: 0.2860 - val_accuracy: 0.8826\n",
            "\n",
            "Epoch 00033: val_accuracy improved from 0.88005 to 0.88258, saving model to best_weights.hdf5\n",
            "Epoch 34/150\n",
            "22/22 [==============================] - 1s 29ms/step - loss: 0.2747 - accuracy: 0.8779 - val_loss: 0.2839 - val_accuracy: 0.8838\n",
            "\n",
            "Epoch 00034: val_accuracy improved from 0.88258 to 0.88384, saving model to best_weights.hdf5\n",
            "Epoch 35/150\n",
            "22/22 [==============================] - 1s 27ms/step - loss: 0.2752 - accuracy: 0.8861 - val_loss: 0.2818 - val_accuracy: 0.8868\n",
            "\n",
            "Epoch 00035: val_accuracy improved from 0.88384 to 0.88678, saving model to best_weights.hdf5\n",
            "Epoch 36/150\n",
            "22/22 [==============================] - 1s 28ms/step - loss: 0.2677 - accuracy: 0.8851 - val_loss: 0.2799 - val_accuracy: 0.8876\n",
            "\n",
            "Epoch 00036: val_accuracy improved from 0.88678 to 0.88763, saving model to best_weights.hdf5\n",
            "Epoch 37/150\n",
            "22/22 [==============================] - 1s 29ms/step - loss: 0.2605 - accuracy: 0.8993 - val_loss: 0.2781 - val_accuracy: 0.8876\n",
            "\n",
            "Epoch 00037: val_accuracy did not improve from 0.88763\n",
            "Epoch 38/150\n",
            "22/22 [==============================] - 1s 27ms/step - loss: 0.2703 - accuracy: 0.8819 - val_loss: 0.2764 - val_accuracy: 0.8889\n",
            "\n",
            "Epoch 00038: val_accuracy improved from 0.88763 to 0.88889, saving model to best_weights.hdf5\n",
            "Epoch 39/150\n",
            "22/22 [==============================] - 1s 29ms/step - loss: 0.2589 - accuracy: 0.8918 - val_loss: 0.2748 - val_accuracy: 0.8893\n",
            "\n",
            "Epoch 00039: val_accuracy improved from 0.88889 to 0.88931, saving model to best_weights.hdf5\n",
            "Epoch 40/150\n",
            "22/22 [==============================] - 1s 28ms/step - loss: 0.2573 - accuracy: 0.8910 - val_loss: 0.2732 - val_accuracy: 0.8897\n",
            "\n",
            "Epoch 00040: val_accuracy improved from 0.88931 to 0.88973, saving model to best_weights.hdf5\n",
            "Epoch 41/150\n",
            "22/22 [==============================] - 1s 28ms/step - loss: 0.2534 - accuracy: 0.8950 - val_loss: 0.2717 - val_accuracy: 0.8897\n",
            "\n",
            "Epoch 00041: val_accuracy did not improve from 0.88973\n",
            "Epoch 42/150\n",
            "22/22 [==============================] - 1s 28ms/step - loss: 0.2464 - accuracy: 0.9005 - val_loss: 0.2702 - val_accuracy: 0.8910\n",
            "\n",
            "Epoch 00042: val_accuracy improved from 0.88973 to 0.89099, saving model to best_weights.hdf5\n",
            "Epoch 43/150\n",
            "22/22 [==============================] - 1s 27ms/step - loss: 0.2424 - accuracy: 0.9009 - val_loss: 0.2688 - val_accuracy: 0.8914\n",
            "\n",
            "Epoch 00043: val_accuracy improved from 0.89099 to 0.89141, saving model to best_weights.hdf5\n",
            "Epoch 44/150\n",
            "22/22 [==============================] - 1s 33ms/step - loss: 0.2486 - accuracy: 0.8957 - val_loss: 0.2674 - val_accuracy: 0.8927\n",
            "\n",
            "Epoch 00044: val_accuracy improved from 0.89141 to 0.89268, saving model to best_weights.hdf5\n",
            "Epoch 45/150\n",
            "22/22 [==============================] - 1s 35ms/step - loss: 0.2385 - accuracy: 0.9033 - val_loss: 0.2661 - val_accuracy: 0.8918\n",
            "\n",
            "Epoch 00045: val_accuracy did not improve from 0.89268\n",
            "Epoch 46/150\n",
            "22/22 [==============================] - 1s 32ms/step - loss: 0.2361 - accuracy: 0.9001 - val_loss: 0.2648 - val_accuracy: 0.8918\n",
            "\n",
            "Epoch 00046: val_accuracy did not improve from 0.89268\n",
            "Epoch 47/150\n",
            "22/22 [==============================] - 1s 39ms/step - loss: 0.2370 - accuracy: 0.9047 - val_loss: 0.2636 - val_accuracy: 0.8923\n",
            "\n",
            "Epoch 00047: val_accuracy did not improve from 0.89268\n",
            "Epoch 48/150\n",
            "22/22 [==============================] - 1s 42ms/step - loss: 0.2330 - accuracy: 0.9120 - val_loss: 0.2625 - val_accuracy: 0.8923\n",
            "\n",
            "Epoch 00048: val_accuracy did not improve from 0.89268\n",
            "Epoch 49/150\n",
            "22/22 [==============================] - 1s 37ms/step - loss: 0.2401 - accuracy: 0.9012 - val_loss: 0.2614 - val_accuracy: 0.8939\n",
            "\n",
            "Epoch 00049: val_accuracy improved from 0.89268 to 0.89394, saving model to best_weights.hdf5\n",
            "Epoch 50/150\n",
            "22/22 [==============================] - 1s 29ms/step - loss: 0.2299 - accuracy: 0.9129 - val_loss: 0.2604 - val_accuracy: 0.8952\n",
            "\n",
            "Epoch 00050: val_accuracy improved from 0.89394 to 0.89520, saving model to best_weights.hdf5\n",
            "Epoch 51/150\n",
            "22/22 [==============================] - 1s 28ms/step - loss: 0.2397 - accuracy: 0.9012 - val_loss: 0.2594 - val_accuracy: 0.8952\n",
            "\n",
            "Epoch 00051: val_accuracy did not improve from 0.89520\n",
            "Epoch 52/150\n",
            "22/22 [==============================] - 1s 28ms/step - loss: 0.2344 - accuracy: 0.9029 - val_loss: 0.2585 - val_accuracy: 0.8948\n",
            "\n",
            "Epoch 00052: val_accuracy did not improve from 0.89520\n",
            "Epoch 53/150\n",
            "22/22 [==============================] - 1s 27ms/step - loss: 0.2332 - accuracy: 0.9035 - val_loss: 0.2575 - val_accuracy: 0.8969\n",
            "\n",
            "Epoch 00053: val_accuracy improved from 0.89520 to 0.89689, saving model to best_weights.hdf5\n",
            "Epoch 54/150\n",
            "22/22 [==============================] - 1s 28ms/step - loss: 0.2226 - accuracy: 0.9060 - val_loss: 0.2567 - val_accuracy: 0.8956\n",
            "\n",
            "Epoch 00054: val_accuracy did not improve from 0.89689\n",
            "Epoch 55/150\n",
            "22/22 [==============================] - 1s 28ms/step - loss: 0.2205 - accuracy: 0.9083 - val_loss: 0.2559 - val_accuracy: 0.8952\n",
            "\n",
            "Epoch 00055: val_accuracy did not improve from 0.89689\n",
            "Epoch 56/150\n",
            "22/22 [==============================] - 1s 34ms/step - loss: 0.2183 - accuracy: 0.9169 - val_loss: 0.2551 - val_accuracy: 0.8965\n",
            "\n",
            "Epoch 00056: val_accuracy did not improve from 0.89689\n",
            "Epoch 57/150\n",
            "22/22 [==============================] - 1s 28ms/step - loss: 0.2125 - accuracy: 0.9176 - val_loss: 0.2543 - val_accuracy: 0.8965\n",
            "\n",
            "Epoch 00057: val_accuracy did not improve from 0.89689\n",
            "Epoch 58/150\n",
            "22/22 [==============================] - 1s 27ms/step - loss: 0.2147 - accuracy: 0.9093 - val_loss: 0.2535 - val_accuracy: 0.8969\n",
            "\n",
            "Epoch 00058: val_accuracy did not improve from 0.89689\n",
            "Epoch 59/150\n",
            "22/22 [==============================] - 1s 27ms/step - loss: 0.2197 - accuracy: 0.9116 - val_loss: 0.2529 - val_accuracy: 0.8965\n",
            "\n",
            "Epoch 00059: val_accuracy did not improve from 0.89689\n",
            "Epoch 60/150\n",
            "22/22 [==============================] - 1s 27ms/step - loss: 0.2176 - accuracy: 0.9144 - val_loss: 0.2522 - val_accuracy: 0.8965\n",
            "\n",
            "Epoch 00060: val_accuracy did not improve from 0.89689\n",
            "Epoch 61/150\n",
            "22/22 [==============================] - 1s 30ms/step - loss: 0.2088 - accuracy: 0.9169 - val_loss: 0.2516 - val_accuracy: 0.8965\n",
            "\n",
            "Epoch 00061: val_accuracy did not improve from 0.89689\n",
            "Epoch 62/150\n",
            "22/22 [==============================] - 1s 32ms/step - loss: 0.2150 - accuracy: 0.9145 - val_loss: 0.2509 - val_accuracy: 0.8969\n",
            "\n",
            "Epoch 00062: val_accuracy did not improve from 0.89689\n",
            "Epoch 63/150\n",
            "22/22 [==============================] - 1s 35ms/step - loss: 0.2008 - accuracy: 0.9190 - val_loss: 0.2503 - val_accuracy: 0.8965\n",
            "\n",
            "Epoch 00063: val_accuracy did not improve from 0.89689\n",
            "Epoch 64/150\n",
            "22/22 [==============================] - 1s 28ms/step - loss: 0.2157 - accuracy: 0.9131 - val_loss: 0.2497 - val_accuracy: 0.8973\n",
            "\n",
            "Epoch 00064: val_accuracy improved from 0.89689 to 0.89731, saving model to best_weights.hdf5\n",
            "Epoch 65/150\n",
            "22/22 [==============================] - 1s 27ms/step - loss: 0.2060 - accuracy: 0.9119 - val_loss: 0.2492 - val_accuracy: 0.8969\n",
            "\n",
            "Epoch 00065: val_accuracy did not improve from 0.89731\n",
            "Epoch 66/150\n",
            "22/22 [==============================] - 1s 38ms/step - loss: 0.2099 - accuracy: 0.9149 - val_loss: 0.2487 - val_accuracy: 0.8969\n",
            "\n",
            "Epoch 00066: val_accuracy did not improve from 0.89731\n",
            "Epoch 67/150\n",
            "22/22 [==============================] - 1s 41ms/step - loss: 0.2092 - accuracy: 0.9163 - val_loss: 0.2482 - val_accuracy: 0.8973\n",
            "\n",
            "Epoch 00067: val_accuracy did not improve from 0.89731\n",
            "Epoch 68/150\n",
            "22/22 [==============================] - 1s 33ms/step - loss: 0.2003 - accuracy: 0.9181 - val_loss: 0.2477 - val_accuracy: 0.8969\n",
            "\n",
            "Epoch 00068: val_accuracy did not improve from 0.89731\n",
            "Epoch 69/150\n",
            "22/22 [==============================] - 1s 41ms/step - loss: 0.2035 - accuracy: 0.9179 - val_loss: 0.2472 - val_accuracy: 0.8969\n",
            "\n",
            "Epoch 00069: val_accuracy did not improve from 0.89731\n",
            "Epoch 70/150\n",
            "22/22 [==============================] - 1s 34ms/step - loss: 0.2062 - accuracy: 0.9124 - val_loss: 0.2468 - val_accuracy: 0.8973\n",
            "\n",
            "Epoch 00070: val_accuracy did not improve from 0.89731\n",
            "Epoch 71/150\n",
            "22/22 [==============================] - 1s 37ms/step - loss: 0.1913 - accuracy: 0.9228 - val_loss: 0.2463 - val_accuracy: 0.8973\n",
            "\n",
            "Epoch 00071: val_accuracy did not improve from 0.89731\n",
            "Epoch 72/150\n",
            "22/22 [==============================] - 1s 39ms/step - loss: 0.2068 - accuracy: 0.9183 - val_loss: 0.2458 - val_accuracy: 0.8981\n",
            "\n",
            "Epoch 00072: val_accuracy improved from 0.89731 to 0.89815, saving model to best_weights.hdf5\n",
            "Epoch 73/150\n",
            "22/22 [==============================] - 1s 34ms/step - loss: 0.1959 - accuracy: 0.9207 - val_loss: 0.2455 - val_accuracy: 0.8981\n",
            "\n",
            "Epoch 00073: val_accuracy did not improve from 0.89815\n",
            "Epoch 74/150\n",
            "22/22 [==============================] - 1s 37ms/step - loss: 0.1900 - accuracy: 0.9250 - val_loss: 0.2451 - val_accuracy: 0.8986\n",
            "\n",
            "Epoch 00074: val_accuracy improved from 0.89815 to 0.89857, saving model to best_weights.hdf5\n",
            "Epoch 75/150\n",
            "22/22 [==============================] - 1s 35ms/step - loss: 0.1955 - accuracy: 0.9233 - val_loss: 0.2447 - val_accuracy: 0.8977\n",
            "\n",
            "Epoch 00075: val_accuracy did not improve from 0.89857\n",
            "Epoch 76/150\n",
            "22/22 [==============================] - 1s 39ms/step - loss: 0.1848 - accuracy: 0.9263 - val_loss: 0.2443 - val_accuracy: 0.8981\n",
            "\n",
            "Epoch 00076: val_accuracy did not improve from 0.89857\n",
            "Epoch 77/150\n",
            "22/22 [==============================] - 1s 40ms/step - loss: 0.1909 - accuracy: 0.9288 - val_loss: 0.2440 - val_accuracy: 0.8981\n",
            "\n",
            "Epoch 00077: val_accuracy did not improve from 0.89857\n",
            "Epoch 78/150\n",
            "22/22 [==============================] - 1s 50ms/step - loss: 0.1936 - accuracy: 0.9261 - val_loss: 0.2437 - val_accuracy: 0.8986\n",
            "\n",
            "Epoch 00078: val_accuracy did not improve from 0.89857\n",
            "Epoch 79/150\n",
            "22/22 [==============================] - 1s 38ms/step - loss: 0.1991 - accuracy: 0.9193 - val_loss: 0.2433 - val_accuracy: 0.8994\n",
            "\n",
            "Epoch 00079: val_accuracy improved from 0.89857 to 0.89941, saving model to best_weights.hdf5\n",
            "Epoch 80/150\n",
            "22/22 [==============================] - 1s 33ms/step - loss: 0.1896 - accuracy: 0.9194 - val_loss: 0.2431 - val_accuracy: 0.8994\n",
            "\n",
            "Epoch 00080: val_accuracy did not improve from 0.89941\n",
            "Epoch 81/150\n",
            "22/22 [==============================] - 1s 32ms/step - loss: 0.1838 - accuracy: 0.9286 - val_loss: 0.2428 - val_accuracy: 0.8981\n",
            "\n",
            "Epoch 00081: val_accuracy did not improve from 0.89941\n",
            "Epoch 82/150\n",
            "22/22 [==============================] - 1s 32ms/step - loss: 0.1811 - accuracy: 0.9275 - val_loss: 0.2425 - val_accuracy: 0.8981\n",
            "\n",
            "Epoch 00082: val_accuracy did not improve from 0.89941\n",
            "Epoch 83/150\n",
            "22/22 [==============================] - 1s 34ms/step - loss: 0.1815 - accuracy: 0.9269 - val_loss: 0.2422 - val_accuracy: 0.8994\n",
            "\n",
            "Epoch 00083: val_accuracy did not improve from 0.89941\n",
            "Epoch 84/150\n",
            "22/22 [==============================] - 1s 34ms/step - loss: 0.1898 - accuracy: 0.9235 - val_loss: 0.2420 - val_accuracy: 0.8990\n",
            "\n",
            "Epoch 00084: val_accuracy did not improve from 0.89941\n",
            "Epoch 85/150\n",
            "22/22 [==============================] - 1s 31ms/step - loss: 0.1846 - accuracy: 0.9266 - val_loss: 0.2418 - val_accuracy: 0.8990\n",
            "\n",
            "Epoch 00085: val_accuracy did not improve from 0.89941\n",
            "Epoch 86/150\n",
            "22/22 [==============================] - 1s 33ms/step - loss: 0.1804 - accuracy: 0.9279 - val_loss: 0.2415 - val_accuracy: 0.8990\n",
            "\n",
            "Epoch 00086: val_accuracy did not improve from 0.89941\n",
            "Epoch 87/150\n",
            "22/22 [==============================] - 1s 34ms/step - loss: 0.1861 - accuracy: 0.9195 - val_loss: 0.2413 - val_accuracy: 0.8990\n",
            "\n",
            "Epoch 00087: val_accuracy did not improve from 0.89941\n",
            "Epoch 88/150\n",
            "22/22 [==============================] - 1s 31ms/step - loss: 0.1757 - accuracy: 0.9322 - val_loss: 0.2411 - val_accuracy: 0.8990\n",
            "\n",
            "Epoch 00088: val_accuracy did not improve from 0.89941\n",
            "Epoch 89/150\n",
            "22/22 [==============================] - 1s 31ms/step - loss: 0.1807 - accuracy: 0.9341 - val_loss: 0.2409 - val_accuracy: 0.8990\n",
            "\n",
            "Epoch 00089: val_accuracy did not improve from 0.89941\n",
            "Epoch 90/150\n",
            "22/22 [==============================] - 1s 29ms/step - loss: 0.1748 - accuracy: 0.9301 - val_loss: 0.2407 - val_accuracy: 0.8990\n",
            "\n",
            "Epoch 00090: val_accuracy did not improve from 0.89941\n",
            "Epoch 91/150\n",
            "22/22 [==============================] - 1s 31ms/step - loss: 0.1813 - accuracy: 0.9282 - val_loss: 0.2405 - val_accuracy: 0.8986\n",
            "\n",
            "Epoch 00091: val_accuracy did not improve from 0.89941\n",
            "Epoch 92/150\n",
            "22/22 [==============================] - 1s 32ms/step - loss: 0.1764 - accuracy: 0.9324 - val_loss: 0.2402 - val_accuracy: 0.8986\n",
            "\n",
            "Epoch 00092: val_accuracy did not improve from 0.89941\n",
            "Epoch 93/150\n",
            "22/22 [==============================] - 1s 29ms/step - loss: 0.1668 - accuracy: 0.9364 - val_loss: 0.2400 - val_accuracy: 0.8986\n",
            "\n",
            "Epoch 00093: val_accuracy did not improve from 0.89941\n",
            "Epoch 94/150\n",
            "22/22 [==============================] - 1s 35ms/step - loss: 0.1802 - accuracy: 0.9284 - val_loss: 0.2399 - val_accuracy: 0.8986\n",
            "\n",
            "Epoch 00094: val_accuracy did not improve from 0.89941\n",
            "Epoch 95/150\n",
            "22/22 [==============================] - 1s 37ms/step - loss: 0.1725 - accuracy: 0.9293 - val_loss: 0.2397 - val_accuracy: 0.8986\n",
            "\n",
            "Epoch 00095: val_accuracy did not improve from 0.89941\n",
            "Epoch 96/150\n",
            "22/22 [==============================] - 1s 44ms/step - loss: 0.1723 - accuracy: 0.9333 - val_loss: 0.2395 - val_accuracy: 0.8981\n",
            "\n",
            "Epoch 00096: val_accuracy did not improve from 0.89941\n",
            "Epoch 97/150\n",
            "22/22 [==============================] - 1s 42ms/step - loss: 0.1750 - accuracy: 0.9307 - val_loss: 0.2394 - val_accuracy: 0.8977\n",
            "\n",
            "Epoch 00097: val_accuracy did not improve from 0.89941\n",
            "Epoch 98/150\n",
            "22/22 [==============================] - 1s 37ms/step - loss: 0.1615 - accuracy: 0.9356 - val_loss: 0.2392 - val_accuracy: 0.8981\n",
            "\n",
            "Epoch 00098: val_accuracy did not improve from 0.89941\n",
            "Epoch 99/150\n",
            "22/22 [==============================] - 1s 41ms/step - loss: 0.1669 - accuracy: 0.9388 - val_loss: 0.2390 - val_accuracy: 0.8981\n",
            "\n",
            "Epoch 00099: val_accuracy did not improve from 0.89941\n",
            "Epoch 100/150\n",
            "22/22 [==============================] - 1s 50ms/step - loss: 0.1661 - accuracy: 0.9318 - val_loss: 0.2389 - val_accuracy: 0.8977\n",
            "\n",
            "Epoch 00100: val_accuracy did not improve from 0.89941\n",
            "Epoch 101/150\n",
            "22/22 [==============================] - 1s 47ms/step - loss: 0.1647 - accuracy: 0.9351 - val_loss: 0.2387 - val_accuracy: 0.8973\n",
            "\n",
            "Epoch 00101: val_accuracy did not improve from 0.89941\n",
            "Epoch 102/150\n",
            "22/22 [==============================] - 1s 43ms/step - loss: 0.1614 - accuracy: 0.9381 - val_loss: 0.2386 - val_accuracy: 0.8969\n",
            "\n",
            "Epoch 00102: val_accuracy did not improve from 0.89941\n",
            "Epoch 103/150\n",
            "22/22 [==============================] - 1s 42ms/step - loss: 0.1646 - accuracy: 0.9362 - val_loss: 0.2385 - val_accuracy: 0.8969\n",
            "\n",
            "Epoch 00103: val_accuracy did not improve from 0.89941\n",
            "Epoch 104/150\n",
            "22/22 [==============================] - 1s 39ms/step - loss: 0.1710 - accuracy: 0.9313 - val_loss: 0.2384 - val_accuracy: 0.8969\n",
            "\n",
            "Epoch 00104: val_accuracy did not improve from 0.89941\n",
            "Epoch 105/150\n",
            "22/22 [==============================] - 1s 38ms/step - loss: 0.1631 - accuracy: 0.9379 - val_loss: 0.2383 - val_accuracy: 0.8969\n",
            "\n",
            "Epoch 00105: val_accuracy did not improve from 0.89941\n",
            "Epoch 106/150\n",
            "22/22 [==============================] - 1s 32ms/step - loss: 0.1679 - accuracy: 0.9335 - val_loss: 0.2382 - val_accuracy: 0.8969\n",
            "\n",
            "Epoch 00106: val_accuracy did not improve from 0.89941\n",
            "Epoch 107/150\n",
            "22/22 [==============================] - 1s 33ms/step - loss: 0.1550 - accuracy: 0.9380 - val_loss: 0.2381 - val_accuracy: 0.8969\n",
            "\n",
            "Epoch 00107: val_accuracy did not improve from 0.89941\n",
            "Epoch 108/150\n",
            "22/22 [==============================] - 1s 32ms/step - loss: 0.1603 - accuracy: 0.9404 - val_loss: 0.2380 - val_accuracy: 0.8969\n",
            "\n",
            "Epoch 00108: val_accuracy did not improve from 0.89941\n",
            "Epoch 109/150\n",
            "22/22 [==============================] - 1s 32ms/step - loss: 0.1616 - accuracy: 0.9388 - val_loss: 0.2379 - val_accuracy: 0.8969\n",
            "\n",
            "Epoch 00109: val_accuracy did not improve from 0.89941\n",
            "Epoch 110/150\n",
            "22/22 [==============================] - 1s 34ms/step - loss: 0.1639 - accuracy: 0.9345 - val_loss: 0.2379 - val_accuracy: 0.8969\n",
            "\n",
            "Epoch 00110: val_accuracy did not improve from 0.89941\n",
            "Epoch 111/150\n",
            "22/22 [==============================] - 1s 33ms/step - loss: 0.1567 - accuracy: 0.9366 - val_loss: 0.2377 - val_accuracy: 0.8969\n",
            "\n",
            "Epoch 00111: val_accuracy did not improve from 0.89941\n",
            "Epoch 112/150\n",
            "22/22 [==============================] - 1s 34ms/step - loss: 0.1526 - accuracy: 0.9410 - val_loss: 0.2376 - val_accuracy: 0.8960\n",
            "\n",
            "Epoch 00112: val_accuracy did not improve from 0.89941\n",
            "Epoch 113/150\n",
            "22/22 [==============================] - 1s 31ms/step - loss: 0.1595 - accuracy: 0.9368 - val_loss: 0.2376 - val_accuracy: 0.8960\n",
            "\n",
            "Epoch 00113: val_accuracy did not improve from 0.89941\n",
            "Epoch 114/150\n",
            "22/22 [==============================] - 1s 33ms/step - loss: 0.1520 - accuracy: 0.9392 - val_loss: 0.2375 - val_accuracy: 0.8956\n",
            "\n",
            "Epoch 00114: val_accuracy did not improve from 0.89941\n",
            "Epoch 115/150\n",
            "22/22 [==============================] - 1s 32ms/step - loss: 0.1463 - accuracy: 0.9463 - val_loss: 0.2375 - val_accuracy: 0.8960\n",
            "\n",
            "Epoch 00115: val_accuracy did not improve from 0.89941\n",
            "Epoch 116/150\n",
            "22/22 [==============================] - 1s 42ms/step - loss: 0.1513 - accuracy: 0.9437 - val_loss: 0.2374 - val_accuracy: 0.8969\n",
            "\n",
            "Epoch 00116: val_accuracy did not improve from 0.89941\n",
            "Epoch 117/150\n",
            "22/22 [==============================] - 1s 39ms/step - loss: 0.1540 - accuracy: 0.9416 - val_loss: 0.2373 - val_accuracy: 0.8969\n",
            "\n",
            "Epoch 00117: val_accuracy did not improve from 0.89941\n",
            "Epoch 118/150\n",
            "22/22 [==============================] - 1s 42ms/step - loss: 0.1445 - accuracy: 0.9469 - val_loss: 0.2373 - val_accuracy: 0.8965\n",
            "\n",
            "Epoch 00118: val_accuracy did not improve from 0.89941\n",
            "Epoch 119/150\n",
            "22/22 [==============================] - 1s 35ms/step - loss: 0.1553 - accuracy: 0.9425 - val_loss: 0.2372 - val_accuracy: 0.8965\n",
            "\n",
            "Epoch 00119: val_accuracy did not improve from 0.89941\n",
            "Epoch 120/150\n",
            "22/22 [==============================] - 1s 31ms/step - loss: 0.1485 - accuracy: 0.9442 - val_loss: 0.2371 - val_accuracy: 0.8960\n",
            "\n",
            "Epoch 00120: val_accuracy did not improve from 0.89941\n",
            "Epoch 121/150\n",
            "22/22 [==============================] - 1s 32ms/step - loss: 0.1614 - accuracy: 0.9367 - val_loss: 0.2371 - val_accuracy: 0.8960\n",
            "\n",
            "Epoch 00121: val_accuracy did not improve from 0.89941\n",
            "Epoch 122/150\n",
            "22/22 [==============================] - 1s 34ms/step - loss: 0.1512 - accuracy: 0.9395 - val_loss: 0.2370 - val_accuracy: 0.8965\n",
            "\n",
            "Epoch 00122: val_accuracy did not improve from 0.89941\n",
            "Epoch 123/150\n",
            "22/22 [==============================] - 1s 30ms/step - loss: 0.1562 - accuracy: 0.9390 - val_loss: 0.2370 - val_accuracy: 0.8969\n",
            "\n",
            "Epoch 00123: val_accuracy did not improve from 0.89941\n",
            "Epoch 124/150\n",
            "22/22 [==============================] - 1s 32ms/step - loss: 0.1543 - accuracy: 0.9372 - val_loss: 0.2369 - val_accuracy: 0.8965\n",
            "\n",
            "Epoch 00124: val_accuracy did not improve from 0.89941\n",
            "Epoch 125/150\n",
            "22/22 [==============================] - 1s 31ms/step - loss: 0.1506 - accuracy: 0.9427 - val_loss: 0.2369 - val_accuracy: 0.8969\n",
            "\n",
            "Epoch 00125: val_accuracy did not improve from 0.89941\n",
            "Epoch 126/150\n",
            "22/22 [==============================] - 1s 32ms/step - loss: 0.1469 - accuracy: 0.9451 - val_loss: 0.2369 - val_accuracy: 0.8973\n",
            "\n",
            "Epoch 00126: val_accuracy did not improve from 0.89941\n",
            "Epoch 127/150\n",
            "22/22 [==============================] - 1s 32ms/step - loss: 0.1439 - accuracy: 0.9466 - val_loss: 0.2369 - val_accuracy: 0.8977\n",
            "\n",
            "Epoch 00127: val_accuracy did not improve from 0.89941\n",
            "Epoch 128/150\n",
            "22/22 [==============================] - 1s 33ms/step - loss: 0.1494 - accuracy: 0.9433 - val_loss: 0.2369 - val_accuracy: 0.8977\n",
            "\n",
            "Epoch 00128: val_accuracy did not improve from 0.89941\n",
            "Epoch 129/150\n",
            "22/22 [==============================] - 1s 36ms/step - loss: 0.1506 - accuracy: 0.9407 - val_loss: 0.2369 - val_accuracy: 0.8977\n",
            "\n",
            "Epoch 00129: val_accuracy did not improve from 0.89941\n",
            "Epoch 130/150\n",
            "22/22 [==============================] - 1s 31ms/step - loss: 0.1448 - accuracy: 0.9461 - val_loss: 0.2369 - val_accuracy: 0.8977\n",
            "\n",
            "Epoch 00130: val_accuracy did not improve from 0.89941\n",
            "Epoch 131/150\n",
            "22/22 [==============================] - 1s 30ms/step - loss: 0.1470 - accuracy: 0.9440 - val_loss: 0.2369 - val_accuracy: 0.8977\n",
            "\n",
            "Epoch 00131: val_accuracy did not improve from 0.89941\n",
            "Epoch 132/150\n",
            "22/22 [==============================] - 1s 28ms/step - loss: 0.1395 - accuracy: 0.9459 - val_loss: 0.2369 - val_accuracy: 0.8977\n",
            "\n",
            "Epoch 00132: val_accuracy did not improve from 0.89941\n",
            "Epoch 133/150\n",
            "22/22 [==============================] - 1s 28ms/step - loss: 0.1481 - accuracy: 0.9398 - val_loss: 0.2369 - val_accuracy: 0.8977\n",
            "\n",
            "Epoch 00133: val_accuracy did not improve from 0.89941\n",
            "Epoch 134/150\n",
            "22/22 [==============================] - 1s 26ms/step - loss: 0.1486 - accuracy: 0.9441 - val_loss: 0.2369 - val_accuracy: 0.8977\n",
            "\n",
            "Epoch 00134: val_accuracy did not improve from 0.89941\n",
            "Epoch 135/150\n",
            "22/22 [==============================] - 1s 28ms/step - loss: 0.1426 - accuracy: 0.9430 - val_loss: 0.2369 - val_accuracy: 0.8973\n",
            "\n",
            "Epoch 00135: val_accuracy did not improve from 0.89941\n",
            "Epoch 136/150\n",
            "22/22 [==============================] - 1s 28ms/step - loss: 0.1392 - accuracy: 0.9411 - val_loss: 0.2369 - val_accuracy: 0.8973\n",
            "\n",
            "Epoch 00136: val_accuracy did not improve from 0.89941\n",
            "Epoch 137/150\n",
            "22/22 [==============================] - 1s 27ms/step - loss: 0.1484 - accuracy: 0.9404 - val_loss: 0.2369 - val_accuracy: 0.8973\n",
            "\n",
            "Epoch 00137: val_accuracy did not improve from 0.89941\n",
            "Epoch 138/150\n",
            "22/22 [==============================] - 1s 28ms/step - loss: 0.1418 - accuracy: 0.9461 - val_loss: 0.2368 - val_accuracy: 0.8969\n",
            "\n",
            "Epoch 00138: val_accuracy did not improve from 0.89941\n",
            "Epoch 139/150\n",
            "22/22 [==============================] - 1s 27ms/step - loss: 0.1419 - accuracy: 0.9447 - val_loss: 0.2368 - val_accuracy: 0.8969\n",
            "\n",
            "Epoch 00139: val_accuracy did not improve from 0.89941\n",
            "Epoch 140/150\n",
            "22/22 [==============================] - 1s 28ms/step - loss: 0.1410 - accuracy: 0.9465 - val_loss: 0.2368 - val_accuracy: 0.8965\n",
            "\n",
            "Epoch 00140: val_accuracy did not improve from 0.89941\n",
            "Epoch 141/150\n",
            "22/22 [==============================] - 1s 27ms/step - loss: 0.1418 - accuracy: 0.9461 - val_loss: 0.2369 - val_accuracy: 0.8965\n",
            "\n",
            "Epoch 00141: val_accuracy did not improve from 0.89941\n",
            "Epoch 142/150\n",
            "22/22 [==============================] - 1s 27ms/step - loss: 0.1391 - accuracy: 0.9456 - val_loss: 0.2369 - val_accuracy: 0.8965\n",
            "\n",
            "Epoch 00142: val_accuracy did not improve from 0.89941\n",
            "Epoch 143/150\n",
            "22/22 [==============================] - 1s 27ms/step - loss: 0.1405 - accuracy: 0.9484 - val_loss: 0.2370 - val_accuracy: 0.8960\n",
            "\n",
            "Epoch 00143: val_accuracy did not improve from 0.89941\n",
            "Epoch 144/150\n",
            "22/22 [==============================] - 1s 27ms/step - loss: 0.1339 - accuracy: 0.9483 - val_loss: 0.2370 - val_accuracy: 0.8956\n",
            "\n",
            "Epoch 00144: val_accuracy did not improve from 0.89941\n",
            "Epoch 145/150\n",
            "22/22 [==============================] - 1s 27ms/step - loss: 0.1301 - accuracy: 0.9509 - val_loss: 0.2370 - val_accuracy: 0.8956\n",
            "\n",
            "Epoch 00145: val_accuracy did not improve from 0.89941\n",
            "Epoch 146/150\n",
            "22/22 [==============================] - 1s 27ms/step - loss: 0.1333 - accuracy: 0.9528 - val_loss: 0.2370 - val_accuracy: 0.8956\n",
            "\n",
            "Epoch 00146: val_accuracy did not improve from 0.89941\n",
            "Epoch 147/150\n",
            "22/22 [==============================] - 1s 26ms/step - loss: 0.1376 - accuracy: 0.9441 - val_loss: 0.2371 - val_accuracy: 0.8956\n",
            "\n",
            "Epoch 00147: val_accuracy did not improve from 0.89941\n",
            "Epoch 148/150\n",
            "22/22 [==============================] - 1s 27ms/step - loss: 0.1295 - accuracy: 0.9481 - val_loss: 0.2371 - val_accuracy: 0.8956\n",
            "\n",
            "Epoch 00148: val_accuracy did not improve from 0.89941\n",
            "Epoch 149/150\n",
            "22/22 [==============================] - 1s 27ms/step - loss: 0.1327 - accuracy: 0.9492 - val_loss: 0.2371 - val_accuracy: 0.8956\n",
            "\n",
            "Epoch 00149: val_accuracy did not improve from 0.89941\n",
            "Epoch 150/150\n",
            "22/22 [==============================] - 1s 26ms/step - loss: 0.1384 - accuracy: 0.9479 - val_loss: 0.2371 - val_accuracy: 0.8965\n",
            "\n",
            "Epoch 00150: val_accuracy did not improve from 0.89941\n"
          ],
          "name": "stdout"
        }
      ]
    },
    {
      "cell_type": "code",
      "metadata": {
        "colab": {
          "base_uri": "https://localhost:8080/",
          "height": 295
        },
        "id": "9o-8qwflEhWm",
        "outputId": "660925b3-f782-4dd9-e539-aafeef5cf2f1"
      },
      "source": [
        "# summarize history for accuracy\n",
        "plt.plot(model_history.history['accuracy'])\n",
        "plt.plot(model_history.history['val_accuracy'])\n",
        "plt.title('model accuracy')\n",
        "plt.ylabel('accuracy')\n",
        "plt.xlabel('epoch')\n",
        "plt.legend(['train', 'validation'], loc='upper left')\n",
        "plt.show()"
      ],
      "execution_count": null,
      "outputs": [
        {
          "output_type": "display_data",
          "data": {
            "image/png": "[encoded data removed]",
            "text/plain": [
              "<Figure size 432x288 with 1 Axes>"
            ]
          },
          "metadata": {
            "tags": [],
            "needs_background": "light"
          }
        }
      ]
    },
    {
      "cell_type": "code",
      "metadata": {
        "id": "d-uVpBwKEhUU"
      },
      "source": [
        "# loading the best model\n",
        "model.load_weights(\"best_weights.hdf5\")"
      ],
      "execution_count": null,
      "outputs": []
    },
    {
      "cell_type": "code",
      "metadata": {
        "colab": {
          "base_uri": "https://localhost:8080/"
        },
        "id": "5zydLDUlEhRF",
        "outputId": "8337dfe7-c66f-4dfb-c812-5eed7f278597"
      },
      "source": [
        "# predictions on the train and test data\n",
        "pred_train = model.predict_classes(x_train)\n",
        "pred_test = model.predict_classes(x_test)"
      ],
      "execution_count": null,
      "outputs": [
        {
          "output_type": "stream",
          "text": [
            "/usr/local/lib/python3.7/dist-packages/keras/engine/sequential.py:450: UserWarning: `model.predict_classes()` is deprecated and will be removed after 2021-01-01. Please use instead:* `np.argmax(model.predict(x), axis=-1)`,   if your model does multi-class classification   (e.g. if it uses a `softmax` last-layer activation).* `(model.predict(x) > 0.5).astype(\"int32\")`,   if your model does binary classification   (e.g. if it uses a `sigmoid` last-layer activation).\n",
            "  warnings.warn('`model.predict_classes()` is deprecated and '\n"
          ],
          "name": "stderr"
        }
      ]
    },
    {
      "cell_type": "code",
      "metadata": {
        "colab": {
          "base_uri": "https://localhost:8080/"
        },
        "id": "bhqhXNjdfsxd",
        "outputId": "d7f6a725-7285-485a-dd0a-119f34443d5e"
      },
      "source": [
        "# performance on train set\n",
        "f1_score(y_train, pred_train, average = 'weighted')"
      ],
      "execution_count": null,
      "outputs": [
        {
          "output_type": "execute_result",
          "data": {
            "text/plain": [
              "0.948986851577294"
            ]
          },
          "metadata": {
            "tags": []
          },
          "execution_count": 62
        }
      ]
    },
    {
      "cell_type": "code",
      "metadata": {
        "colab": {
          "base_uri": "https://localhost:8080/"
        },
        "id": "O65TxHMth08z",
        "outputId": "1f4ea838-a9fe-4256-aabf-e6b571702621"
      },
      "source": [
        "# performance on test set\n",
        "f1_score(y_test, pred_test, average = 'weighted')"
      ],
      "execution_count": null,
      "outputs": [
        {
          "output_type": "execute_result",
          "data": {
            "text/plain": [
              "0.8998612427506254"
            ]
          },
          "metadata": {
            "tags": []
          },
          "execution_count": 63
        }
      ]
    },
    {
      "cell_type": "code",
      "metadata": {
        "id": "2RFbe8zuGGWD"
      },
      "source": [
        "# test file\n",
        "test_file = pd.read_csv('test_oJQbWVk.csv')\n",
        "sample_submission = pd.read_csv('sample_submission_LnhVWA4.csv')"
      ],
      "execution_count": null,
      "outputs": []
    },
    {
      "cell_type": "code",
      "metadata": {
        "colab": {
          "base_uri": "https://localhost:8080/",
          "height": 206
        },
        "id": "YM5-I4y0HMpd",
        "outputId": "7717dab7-2d65-4542-8cba-986296c5b98b"
      },
      "source": [
        "test_file.head()"
      ],
      "execution_count": null,
      "outputs": [
        {
          "output_type": "execute_result",
          "data": {
            "text/html": [
              "<div>\n",
              "<style scoped>\n",
              "    .dataframe tbody tr th:only-of-type {\n",
              "        vertical-align: middle;\n",
              "    }\n",
              "\n",
              "    .dataframe tbody tr th {\n",
              "        vertical-align: top;\n",
              "    }\n",
              "\n",
              "    .dataframe thead th {\n",
              "        text-align: right;\n",
              "    }\n",
              "</style>\n",
              "<table border=\"1\" class=\"dataframe\">\n",
              "  <thead>\n",
              "    <tr style=\"text-align: right;\">\n",
              "      <th></th>\n",
              "      <th>id</th>\n",
              "      <th>tweet</th>\n",
              "    </tr>\n",
              "  </thead>\n",
              "  <tbody>\n",
              "    <tr>\n",
              "      <th>0</th>\n",
              "      <td>7921</td>\n",
              "      <td>I hate the new #iphone upgrade. Won't let me d...</td>\n",
              "    </tr>\n",
              "    <tr>\n",
              "      <th>1</th>\n",
              "      <td>7922</td>\n",
              "      <td>currently shitting my fucking pants. #apple #i...</td>\n",
              "    </tr>\n",
              "    <tr>\n",
              "      <th>2</th>\n",
              "      <td>7923</td>\n",
              "      <td>I'd like to puts some CD-ROMS on my iPad, is t...</td>\n",
              "    </tr>\n",
              "    <tr>\n",
              "      <th>3</th>\n",
              "      <td>7924</td>\n",
              "      <td>My ipod is officially dead. I lost all my pict...</td>\n",
              "    </tr>\n",
              "    <tr>\n",
              "      <th>4</th>\n",
              "      <td>7925</td>\n",
              "      <td>Been fighting iTunes all night! I only want th...</td>\n",
              "    </tr>\n",
              "  </tbody>\n",
              "</table>\n",
              "</div>"
            ],
            "text/plain": [
              "     id                                              tweet\n",
              "0  7921  I hate the new #iphone upgrade. Won't let me d...\n",
              "1  7922  currently shitting my fucking pants. #apple #i...\n",
              "2  7923  I'd like to puts some CD-ROMS on my iPad, is t...\n",
              "3  7924  My ipod is officially dead. I lost all my pict...\n",
              "4  7925  Been fighting iTunes all night! I only want th..."
            ]
          },
          "metadata": {
            "tags": []
          },
          "execution_count": 55
        }
      ]
    },
    {
      "cell_type": "code",
      "metadata": {
        "id": "D11tkl2iHOns"
      },
      "source": [
        "test_features = count_vector.transform(test_file['tweet'])"
      ],
      "execution_count": null,
      "outputs": []
    },
    {
      "cell_type": "code",
      "metadata": {
        "colab": {
          "base_uri": "https://localhost:8080/"
        },
        "id": "1fHi6gxAHZEt",
        "outputId": "2886f0e4-3254-4c30-e51f-0a07c0181315"
      },
      "source": [
        "test_predictions = model.predict_classes(test_features)"
      ],
      "execution_count": null,
      "outputs": [
        {
          "output_type": "stream",
          "text": [
            "/usr/local/lib/python3.7/dist-packages/keras/engine/sequential.py:450: UserWarning: `model.predict_classes()` is deprecated and will be removed after 2021-01-01. Please use instead:* `np.argmax(model.predict(x), axis=-1)`,   if your model does multi-class classification   (e.g. if it uses a `softmax` last-layer activation).* `(model.predict(x) > 0.5).astype(\"int32\")`,   if your model does binary classification   (e.g. if it uses a `sigmoid` last-layer activation).\n",
            "  warnings.warn('`model.predict_classes()` is deprecated and '\n"
          ],
          "name": "stderr"
        }
      ]
    },
    {
      "cell_type": "code",
      "metadata": {
        "colab": {
          "base_uri": "https://localhost:8080/"
        },
        "id": "UMdOhEpfHfKa",
        "outputId": "dd21978b-a892-4fa7-8caa-f6d8e7ae794d"
      },
      "source": [
        "test_predictions"
      ],
      "execution_count": null,
      "outputs": [
        {
          "output_type": "execute_result",
          "data": {
            "text/plain": [
              "array([[1],\n",
              "       [0],\n",
              "       [1],\n",
              "       ...,\n",
              "       [1],\n",
              "       [1],\n",
              "       [0]], dtype=int32)"
            ]
          },
          "metadata": {
            "tags": []
          },
          "execution_count": 58
        }
      ]
    },
    {
      "cell_type": "code",
      "metadata": {
        "colab": {
          "base_uri": "https://localhost:8080/",
          "height": 206
        },
        "id": "jSu3jlM-HiTE",
        "outputId": "30fa353e-a9bc-4222-fda8-d9666727c44b"
      },
      "source": [
        "sample_submission.head()"
      ],
      "execution_count": null,
      "outputs": [
        {
          "output_type": "execute_result",
          "data": {
            "text/html": [
              "<div>\n",
              "<style scoped>\n",
              "    .dataframe tbody tr th:only-of-type {\n",
              "        vertical-align: middle;\n",
              "    }\n",
              "\n",
              "    .dataframe tbody tr th {\n",
              "        vertical-align: top;\n",
              "    }\n",
              "\n",
              "    .dataframe thead th {\n",
              "        text-align: right;\n",
              "    }\n",
              "</style>\n",
              "<table border=\"1\" class=\"dataframe\">\n",
              "  <thead>\n",
              "    <tr style=\"text-align: right;\">\n",
              "      <th></th>\n",
              "      <th>id</th>\n",
              "      <th>label</th>\n",
              "    </tr>\n",
              "  </thead>\n",
              "  <tbody>\n",
              "    <tr>\n",
              "      <th>0</th>\n",
              "      <td>7921</td>\n",
              "      <td>0</td>\n",
              "    </tr>\n",
              "    <tr>\n",
              "      <th>1</th>\n",
              "      <td>7922</td>\n",
              "      <td>0</td>\n",
              "    </tr>\n",
              "    <tr>\n",
              "      <th>2</th>\n",
              "      <td>7923</td>\n",
              "      <td>0</td>\n",
              "    </tr>\n",
              "    <tr>\n",
              "      <th>3</th>\n",
              "      <td>7924</td>\n",
              "      <td>0</td>\n",
              "    </tr>\n",
              "    <tr>\n",
              "      <th>4</th>\n",
              "      <td>7925</td>\n",
              "      <td>0</td>\n",
              "    </tr>\n",
              "  </tbody>\n",
              "</table>\n",
              "</div>"
            ],
            "text/plain": [
              "     id  label\n",
              "0  7921      0\n",
              "1  7922      0\n",
              "2  7923      0\n",
              "3  7924      0\n",
              "4  7925      0"
            ]
          },
          "metadata": {
            "tags": []
          },
          "execution_count": 59
        }
      ]
    },
    {
      "cell_type": "code",
      "metadata": {
        "colab": {
          "base_uri": "https://localhost:8080/",
          "height": 363
        },
        "id": "g9zHoxpgHkUg",
        "outputId": "fb5f8223-d047-4b2d-8036-a31f42650c35"
      },
      "source": [
        "sample_submission['label'] = test_predictions\n",
        "sample_submission.head(10)"
      ],
      "execution_count": null,
      "outputs": [
        {
          "output_type": "execute_result",
          "data": {
            "text/html": [
              "<div>\n",
              "<style scoped>\n",
              "    .dataframe tbody tr th:only-of-type {\n",
              "        vertical-align: middle;\n",
              "    }\n",
              "\n",
              "    .dataframe tbody tr th {\n",
              "        vertical-align: top;\n",
              "    }\n",
              "\n",
              "    .dataframe thead th {\n",
              "        text-align: right;\n",
              "    }\n",
              "</style>\n",
              "<table border=\"1\" class=\"dataframe\">\n",
              "  <thead>\n",
              "    <tr style=\"text-align: right;\">\n",
              "      <th></th>\n",
              "      <th>id</th>\n",
              "      <th>label</th>\n",
              "    </tr>\n",
              "  </thead>\n",
              "  <tbody>\n",
              "    <tr>\n",
              "      <th>0</th>\n",
              "      <td>7921</td>\n",
              "      <td>1</td>\n",
              "    </tr>\n",
              "    <tr>\n",
              "      <th>1</th>\n",
              "      <td>7922</td>\n",
              "      <td>0</td>\n",
              "    </tr>\n",
              "    <tr>\n",
              "      <th>2</th>\n",
              "      <td>7923</td>\n",
              "      <td>1</td>\n",
              "    </tr>\n",
              "    <tr>\n",
              "      <th>3</th>\n",
              "      <td>7924</td>\n",
              "      <td>1</td>\n",
              "    </tr>\n",
              "    <tr>\n",
              "      <th>4</th>\n",
              "      <td>7925</td>\n",
              "      <td>1</td>\n",
              "    </tr>\n",
              "    <tr>\n",
              "      <th>5</th>\n",
              "      <td>7926</td>\n",
              "      <td>0</td>\n",
              "    </tr>\n",
              "    <tr>\n",
              "      <th>6</th>\n",
              "      <td>7927</td>\n",
              "      <td>1</td>\n",
              "    </tr>\n",
              "    <tr>\n",
              "      <th>7</th>\n",
              "      <td>7928</td>\n",
              "      <td>0</td>\n",
              "    </tr>\n",
              "    <tr>\n",
              "      <th>8</th>\n",
              "      <td>7929</td>\n",
              "      <td>1</td>\n",
              "    </tr>\n",
              "    <tr>\n",
              "      <th>9</th>\n",
              "      <td>7930</td>\n",
              "      <td>0</td>\n",
              "    </tr>\n",
              "  </tbody>\n",
              "</table>\n",
              "</div>"
            ],
            "text/plain": [
              "     id  label\n",
              "0  7921      1\n",
              "1  7922      0\n",
              "2  7923      1\n",
              "3  7924      1\n",
              "4  7925      1\n",
              "5  7926      0\n",
              "6  7927      1\n",
              "7  7928      0\n",
              "8  7929      1\n",
              "9  7930      0"
            ]
          },
          "metadata": {
            "tags": []
          },
          "execution_count": 60
        }
      ]
    },
    {
      "cell_type": "code",
      "metadata": {
        "id": "elFyXNQrHt6Z"
      },
      "source": [
        "sample_submission.to_csv('submission_file.csv', index=False, header=True)"
      ],
      "execution_count": null,
      "outputs": []
    },
    {
      "cell_type": "code",
      "metadata": {
        "id": "p2pG9h_0HzdH"
      },
      "source": [],
      "execution_count": null,
      "outputs": []
    }
  ]
}